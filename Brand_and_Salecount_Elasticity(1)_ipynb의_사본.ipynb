{
  "cells": [
    {
      "cell_type": "markdown",
      "metadata": {
        "id": "ZZK_yDuG5wEx"
      },
      "source": [
        "# 0. 초기 세팅"
      ]
    },
    {
      "cell_type": "code",
      "execution_count": null,
      "metadata": {
        "id": "ryKposat5wEz"
      },
      "outputs": [],
      "source": [
        "import random\n",
        "import os\n",
        "import pandas as pd\n",
        "import numpy as np\n",
        "from tqdm.auto import tqdm\n",
        "from sklearn.preprocessing import LabelEncoder\n",
        "\n",
        "import torch\n",
        "import torch.nn as nn\n",
        "import torch.optim as optim\n",
        "import torch.nn.functional as F\n",
        "from torch.utils.data import Dataset, DataLoader"
      ]
    },
    {
      "cell_type": "code",
      "source": [
        "import numpy as np\n",
        "import matplotlib.pyplot as plt\n",
        "import pandas as pd\n",
        "import seaborn as sns"
      ],
      "metadata": {
        "id": "nLcpOrkhLJap"
      },
      "execution_count": null,
      "outputs": []
    },
    {
      "cell_type": "code",
      "source": [
        "#load all the libraries...\n",
        "import pandas as pd\n",
        "import numpy as np\n",
        "import re\n",
        "from IPython.display import display, HTML, Image\n",
        "\n",
        "import matplotlib.pyplot as plt\n",
        "import seaborn as sns\n",
        "import statsmodels.api as sm\n",
        "\n",
        "import warnings\n",
        "warnings.filterwarnings(\"ignore\")"
      ],
      "metadata": {
        "id": "bMOGsuJkMqKC"
      },
      "execution_count": null,
      "outputs": []
    },
    {
      "cell_type": "code",
      "source": [
        "import math"
      ],
      "metadata": {
        "id": "cnQlQL9rMUOk"
      },
      "execution_count": null,
      "outputs": []
    },
    {
      "cell_type": "code",
      "source": [
        "from google.colab import drive\n",
        "drive.mount('/content/drive')"
      ],
      "metadata": {
        "colab": {
          "base_uri": "https://localhost:8080/",
          "height": 351
        },
        "id": "kHW6ajdY6Ydj",
        "outputId": "1076f1a9-7ba8-4ad8-e054-67207265bab3"
      },
      "execution_count": null,
      "outputs": [
        {
          "output_type": "error",
          "ename": "MessageError",
          "evalue": "ignored",
          "traceback": [
            "\u001b[0;31m---------------------------------------------------------------------------\u001b[0m",
            "\u001b[0;31mMessageError\u001b[0m                              Traceback (most recent call last)",
            "\u001b[0;32m<ipython-input-5-d5df0069828e>\u001b[0m in \u001b[0;36m<cell line: 2>\u001b[0;34m()\u001b[0m\n\u001b[1;32m      1\u001b[0m \u001b[0;32mfrom\u001b[0m \u001b[0mgoogle\u001b[0m\u001b[0;34m.\u001b[0m\u001b[0mcolab\u001b[0m \u001b[0;32mimport\u001b[0m \u001b[0mdrive\u001b[0m\u001b[0;34m\u001b[0m\u001b[0;34m\u001b[0m\u001b[0m\n\u001b[0;32m----> 2\u001b[0;31m \u001b[0mdrive\u001b[0m\u001b[0;34m.\u001b[0m\u001b[0mmount\u001b[0m\u001b[0;34m(\u001b[0m\u001b[0;34m'/content/drive'\u001b[0m\u001b[0;34m)\u001b[0m\u001b[0;34m\u001b[0m\u001b[0;34m\u001b[0m\u001b[0m\n\u001b[0m",
            "\u001b[0;32m/usr/local/lib/python3.10/dist-packages/google/colab/drive.py\u001b[0m in \u001b[0;36mmount\u001b[0;34m(mountpoint, force_remount, timeout_ms, readonly)\u001b[0m\n\u001b[1;32m    101\u001b[0m \u001b[0;32mdef\u001b[0m \u001b[0mmount\u001b[0m\u001b[0;34m(\u001b[0m\u001b[0mmountpoint\u001b[0m\u001b[0;34m,\u001b[0m \u001b[0mforce_remount\u001b[0m\u001b[0;34m=\u001b[0m\u001b[0;32mFalse\u001b[0m\u001b[0;34m,\u001b[0m \u001b[0mtimeout_ms\u001b[0m\u001b[0;34m=\u001b[0m\u001b[0;36m120000\u001b[0m\u001b[0;34m,\u001b[0m \u001b[0mreadonly\u001b[0m\u001b[0;34m=\u001b[0m\u001b[0;32mFalse\u001b[0m\u001b[0;34m)\u001b[0m\u001b[0;34m:\u001b[0m\u001b[0;34m\u001b[0m\u001b[0;34m\u001b[0m\u001b[0m\n\u001b[1;32m    102\u001b[0m   \u001b[0;34m\"\"\"Mount your Google Drive at the specified mountpoint path.\"\"\"\u001b[0m\u001b[0;34m\u001b[0m\u001b[0;34m\u001b[0m\u001b[0m\n\u001b[0;32m--> 103\u001b[0;31m   return _mount(\n\u001b[0m\u001b[1;32m    104\u001b[0m       \u001b[0mmountpoint\u001b[0m\u001b[0;34m,\u001b[0m\u001b[0;34m\u001b[0m\u001b[0;34m\u001b[0m\u001b[0m\n\u001b[1;32m    105\u001b[0m       \u001b[0mforce_remount\u001b[0m\u001b[0;34m=\u001b[0m\u001b[0mforce_remount\u001b[0m\u001b[0;34m,\u001b[0m\u001b[0;34m\u001b[0m\u001b[0;34m\u001b[0m\u001b[0m\n",
            "\u001b[0;32m/usr/local/lib/python3.10/dist-packages/google/colab/drive.py\u001b[0m in \u001b[0;36m_mount\u001b[0;34m(mountpoint, force_remount, timeout_ms, ephemeral, readonly)\u001b[0m\n\u001b[1;32m    130\u001b[0m   )\n\u001b[1;32m    131\u001b[0m   \u001b[0;32mif\u001b[0m \u001b[0mephemeral\u001b[0m\u001b[0;34m:\u001b[0m\u001b[0;34m\u001b[0m\u001b[0;34m\u001b[0m\u001b[0m\n\u001b[0;32m--> 132\u001b[0;31m     _message.blocking_request(\n\u001b[0m\u001b[1;32m    133\u001b[0m         \u001b[0;34m'request_auth'\u001b[0m\u001b[0;34m,\u001b[0m \u001b[0mrequest\u001b[0m\u001b[0;34m=\u001b[0m\u001b[0;34m{\u001b[0m\u001b[0;34m'authType'\u001b[0m\u001b[0;34m:\u001b[0m \u001b[0;34m'dfs_ephemeral'\u001b[0m\u001b[0;34m}\u001b[0m\u001b[0;34m,\u001b[0m \u001b[0mtimeout_sec\u001b[0m\u001b[0;34m=\u001b[0m\u001b[0;32mNone\u001b[0m\u001b[0;34m\u001b[0m\u001b[0;34m\u001b[0m\u001b[0m\n\u001b[1;32m    134\u001b[0m     )\n",
            "\u001b[0;32m/usr/local/lib/python3.10/dist-packages/google/colab/_message.py\u001b[0m in \u001b[0;36mblocking_request\u001b[0;34m(request_type, request, timeout_sec, parent)\u001b[0m\n\u001b[1;32m    174\u001b[0m       \u001b[0mrequest_type\u001b[0m\u001b[0;34m,\u001b[0m \u001b[0mrequest\u001b[0m\u001b[0;34m,\u001b[0m \u001b[0mparent\u001b[0m\u001b[0;34m=\u001b[0m\u001b[0mparent\u001b[0m\u001b[0;34m,\u001b[0m \u001b[0mexpect_reply\u001b[0m\u001b[0;34m=\u001b[0m\u001b[0;32mTrue\u001b[0m\u001b[0;34m\u001b[0m\u001b[0;34m\u001b[0m\u001b[0m\n\u001b[1;32m    175\u001b[0m   )\n\u001b[0;32m--> 176\u001b[0;31m   \u001b[0;32mreturn\u001b[0m \u001b[0mread_reply_from_input\u001b[0m\u001b[0;34m(\u001b[0m\u001b[0mrequest_id\u001b[0m\u001b[0;34m,\u001b[0m \u001b[0mtimeout_sec\u001b[0m\u001b[0;34m)\u001b[0m\u001b[0;34m\u001b[0m\u001b[0;34m\u001b[0m\u001b[0m\n\u001b[0m",
            "\u001b[0;32m/usr/local/lib/python3.10/dist-packages/google/colab/_message.py\u001b[0m in \u001b[0;36mread_reply_from_input\u001b[0;34m(message_id, timeout_sec)\u001b[0m\n\u001b[1;32m    101\u001b[0m     ):\n\u001b[1;32m    102\u001b[0m       \u001b[0;32mif\u001b[0m \u001b[0;34m'error'\u001b[0m \u001b[0;32min\u001b[0m \u001b[0mreply\u001b[0m\u001b[0;34m:\u001b[0m\u001b[0;34m\u001b[0m\u001b[0;34m\u001b[0m\u001b[0m\n\u001b[0;32m--> 103\u001b[0;31m         \u001b[0;32mraise\u001b[0m \u001b[0mMessageError\u001b[0m\u001b[0;34m(\u001b[0m\u001b[0mreply\u001b[0m\u001b[0;34m[\u001b[0m\u001b[0;34m'error'\u001b[0m\u001b[0;34m]\u001b[0m\u001b[0;34m)\u001b[0m\u001b[0;34m\u001b[0m\u001b[0;34m\u001b[0m\u001b[0m\n\u001b[0m\u001b[1;32m    104\u001b[0m       \u001b[0;32mreturn\u001b[0m \u001b[0mreply\u001b[0m\u001b[0;34m.\u001b[0m\u001b[0mget\u001b[0m\u001b[0;34m(\u001b[0m\u001b[0;34m'data'\u001b[0m\u001b[0;34m,\u001b[0m \u001b[0;32mNone\u001b[0m\u001b[0;34m)\u001b[0m\u001b[0;34m\u001b[0m\u001b[0;34m\u001b[0m\u001b[0m\n\u001b[1;32m    105\u001b[0m \u001b[0;34m\u001b[0m\u001b[0m\n",
            "\u001b[0;31mMessageError\u001b[0m: Error: credential propagation was unsuccessful"
          ]
        }
      ]
    },
    {
      "cell_type": "code",
      "source": [
        "import os\n",
        "os.chdir('/content/drive/MyDrive/LGAIMER')"
      ],
      "metadata": {
        "id": "KsT_gt3161f2"
      },
      "execution_count": null,
      "outputs": []
    },
    {
      "cell_type": "code",
      "execution_count": null,
      "metadata": {
        "id": "iqUwoRBk5wE2"
      },
      "outputs": [],
      "source": [
        "device = torch.device('cuda') if torch.cuda.is_available() else torch.device('cpu')"
      ]
    },
    {
      "cell_type": "code",
      "execution_count": null,
      "metadata": {
        "id": "M1xXr3rM5wE3"
      },
      "outputs": [],
      "source": [
        "CFG = {\n",
        "    'TRAIN_WINDOW_SIZE':90, # 90일치로 학습\n",
        "    'PREDICT_SIZE':21, # 21일치 예측\n",
        "    'EPOCHS':10,\n",
        "    'LEARNING_RATE':1e-4,\n",
        "    'BATCH_SIZE':512,\n",
        "    'SEED':41\n",
        "}"
      ]
    },
    {
      "cell_type": "code",
      "execution_count": null,
      "metadata": {
        "id": "LwwgyAPm5wE3"
      },
      "outputs": [],
      "source": [
        "def seed_everything(seed):\n",
        "    random.seed(seed)\n",
        "    os.environ['PYTHONHASHSEED'] = str(seed)\n",
        "    np.random.seed(seed)\n",
        "    torch.manual_seed(seed)\n",
        "    torch.cuda.manual_seed(seed)\n",
        "    torch.backends.cudnn.deterministic = True\n",
        "    torch.backends.cudnn.benchmark = True\n",
        "\n",
        "seed_everything(CFG['SEED']) # Seed 고정"
      ]
    },
    {
      "cell_type": "markdown",
      "metadata": {
        "id": "6gA_NZGs5wE4"
      },
      "source": [
        "# 1. 라벨 인코딩"
      ]
    },
    {
      "cell_type": "code",
      "execution_count": null,
      "metadata": {
        "id": "tYltl_cw5wE4"
      },
      "outputs": [],
      "source": [
        "train_data = pd.read_csv('data/train.csv').drop(columns=['ID', '제품'])\n",
        "sales = pd.read_csv('data/sales.csv').drop(columns=['ID', '제품'])\n",
        "brand_keyword_count = pd.read_csv('data/brand_keyword_cnt.csv')"
      ]
    },
    {
      "cell_type": "code",
      "source": [
        "# 결측치 확인\n",
        "# brand_keyword_count.isnull().sum()\n",
        "NoneRow = (brand_keyword_count[brand_keyword_count.isnull().any(axis=1)]).loc[:, '브랜드']\n",
        "NoneRow = list(NoneRow)"
      ],
      "metadata": {
        "id": "EF3PLbxAr_hJ"
      },
      "execution_count": null,
      "outputs": []
    },
    {
      "cell_type": "code",
      "source": [
        "NoneBrandIndex = []\n",
        "for brandCode in NoneRow:\n",
        "    NoneBrandIndex += list(train_data[train_data['브랜드'] == brandCode].index)"
      ],
      "metadata": {
        "id": "A95Pw5JivGFV"
      },
      "execution_count": null,
      "outputs": []
    },
    {
      "cell_type": "code",
      "source": [
        "len(NoneBrandIndex)"
      ],
      "metadata": {
        "colab": {
          "base_uri": "https://localhost:8080/"
        },
        "id": "5h5hHHJDwRSt",
        "outputId": "3d7cdc25-6993-49e4-ee08-cdda58308927"
      },
      "execution_count": null,
      "outputs": [
        {
          "output_type": "execute_result",
          "data": {
            "text/plain": [
              "208"
            ]
          },
          "metadata": {},
          "execution_count": 187
        }
      ]
    },
    {
      "cell_type": "code",
      "source": [
        "brand_keyword_count = brand_keyword_count.dropna() # 결측치 제거 (35행 지워짐)\n",
        "train_data = train_data.drop(NoneBrandIndex)\n",
        "sales = sales.drop(NoneBrandIndex)"
      ],
      "metadata": {
        "id": "k6vcwA-SmmK_"
      },
      "execution_count": null,
      "outputs": []
    },
    {
      "cell_type": "code",
      "source": [
        "train_data = train_data.rename(index = {j: i for i, j in enumerate(train_data.index)})\n",
        "sales = sales.rename(index = {j: i for i, j in enumerate(sales.index)})"
      ],
      "metadata": {
        "id": "Pb_zu395xD9G"
      },
      "execution_count": null,
      "outputs": []
    },
    {
      "cell_type": "code",
      "source": [
        "# Label Encoding\n",
        "label_encoder = LabelEncoder()\n",
        "categorical_columns = ['대분류', '중분류', '소분류', '브랜드']\n",
        "\n",
        "label_encoder.fit(brand_keyword_count['브랜드'])\n",
        "brand_keyword_count['브랜드'] = label_encoder.transform(brand_keyword_count['브랜드'])\n",
        "\n",
        "for col in categorical_columns:\n",
        "    label_encoder.fit(train_data[col])\n",
        "    train_data[col] = label_encoder.transform(train_data[col])\n",
        "\n",
        "    label_encoder.fit(sales[col])\n",
        "    sales[col] = label_encoder.transform(sales[col])"
      ],
      "metadata": {
        "id": "Tmg1YHbvlCVg"
      },
      "execution_count": null,
      "outputs": []
    },
    {
      "cell_type": "code",
      "source": [
        "train_data_date = train_data.iloc[:, 4:]\n",
        "train_data_class = train_data.iloc[:, :4]\n",
        "\n",
        "tmp_date = train_data_date.replace(0, 1)\n",
        "prices = sales.iloc[:, 4:] / tmp_date"
      ],
      "metadata": {
        "id": "915ROiXN7RC9"
      },
      "execution_count": null,
      "outputs": []
    },
    {
      "cell_type": "code",
      "source": [
        "train_data = train_data                                                     # sale count 판매량\n",
        "sales = sales                                                               # sale 총 판매금액\n",
        "brand_keyword_count = brand_keyword_count                                   # brand keyword count 브랜드 키워드량\n",
        "prices = pd.concat([train_data.iloc[:, :4], prices], axis = 1)              # price 가격"
      ],
      "metadata": {
        "id": "uoWMQy8PIWh5"
      },
      "execution_count": null,
      "outputs": []
    },
    {
      "cell_type": "markdown",
      "metadata": {
        "id": "07UaPd3l5wE8"
      },
      "source": [
        "# 2. 데이터 그래프"
      ]
    },
    {
      "cell_type": "markdown",
      "metadata": {
        "id": "mtNKI_4S5wE9"
      },
      "source": [
        "## 2-1. 일별 판매량"
      ]
    },
    {
      "cell_type": "markdown",
      "source": [
        "같은 `Brand Number` 에 대해서 `sale count` 판매량 비교"
      ],
      "metadata": {
        "id": "jf2wwZpTJmfA"
      }
    },
    {
      "cell_type": "code",
      "source": [
        "def same_col_data(id, data, col='브랜드'):\n",
        "    same_col_data = data[data[col] == id]\n",
        "    len_row = len(same_col_data)\n",
        "    X = same_col_data.iloc[0, :][4:].index\n",
        "    y = [same_col_data.iloc[i, :][4:] for i in range(len_row)]\n",
        "    return X, y"
      ],
      "metadata": {
        "id": "dpWEHr0_JYfa"
      },
      "execution_count": null,
      "outputs": []
    },
    {
      "cell_type": "code",
      "source": [
        "id = 1\n",
        "X, y = same_col_data(id, train_data)"
      ],
      "metadata": {
        "id": "UgRSv7W9LpRs"
      },
      "execution_count": null,
      "outputs": []
    },
    {
      "cell_type": "code",
      "source": [
        "rows = math.ceil(len(y) / 2)\n",
        "fig, ax = plt.subplots(rows, 2, figsize=(12, 5))\n",
        "\n",
        "count = 0\n",
        "for row in range(rows):\n",
        "    for col in range(2):\n",
        "        ax[row][col].plot(X, y[count])\n",
        "        ax[row][col].set_title(f\"Brand {id} : ex {count}\")\n",
        "        ax[row][col].set_ylabel('Sales Count')\n",
        "        # ax[row][col].set_xticks([])\n",
        "        ax[row][col].set_xticklabels([])\n",
        "        count += 1\n",
        "        if count == len(y):\n",
        "            break\n",
        "\n",
        "plt.show()"
      ],
      "metadata": {
        "colab": {
          "base_uri": "https://localhost:8080/",
          "height": 468
        },
        "id": "owgK7WGYP1-F",
        "outputId": "9730049a-1256-472d-9d7e-f97f52b378e4"
      },
      "execution_count": null,
      "outputs": [
        {
          "output_type": "display_data",
          "data": {
            "text/plain": [
              "<Figure size 1200x500 with 4 Axes>"
            ],
            "image/png": "[encoded data removed]"
          },
          "metadata": {}
        }
      ]
    },
    {
      "cell_type": "markdown",
      "source": [
        "`Sales Count`, `Price`, `Brand Keyword Count` 에 대해서 데이터 비교"
      ],
      "metadata": {
        "id": "bBPLSen9IB1l"
      }
    },
    {
      "cell_type": "code",
      "source": [
        "def one_row_data(id, salecount_data, price_data, brand_data):\n",
        "    one_row_data = salecount_data.iloc[id, 4:]\n",
        "    brand_id = salecount_data.loc[id, '브랜드']\n",
        "\n",
        "    X = one_row_data.index\n",
        "    y_salecount = one_row_data\n",
        "    y_price = price_data.iloc[id, 4:]\n",
        "    y_brand = brand_data[brand_data['브랜드'] == brand_id].iloc[0, 1:]\n",
        "    return X, y_salecount, y_price, y_brand"
      ],
      "metadata": {
        "id": "JMR_QwrnJl5h"
      },
      "execution_count": null,
      "outputs": []
    },
    {
      "cell_type": "code",
      "execution_count": null,
      "metadata": {
        "id": "D2zIXM5I5wE9"
      },
      "outputs": [],
      "source": [
        "id = 1\n",
        "X, y_salecount, y_price, y_brand = one_row_data(id, train_data, prices, brand_keyword_count)"
      ]
    },
    {
      "cell_type": "code",
      "source": [
        "# 표준화\n",
        "mean_price = np.mean(y_price)\n",
        "std_price = np.std(y_price)\n",
        "y_price_ = (y_price - mean_price) / std_price"
      ],
      "metadata": {
        "id": "ViBuM9WOXTUB"
      },
      "execution_count": null,
      "outputs": []
    },
    {
      "cell_type": "code",
      "source": [
        "plt.figure(figsize=(12,5))\n",
        "# plt.yscale('linear') # 'linear', 'log', 'symlog', 'asinh', 'logit', 'function', 'functionlog'\n",
        "# plt.plot(X, y_price_, label = 'Prices')\n",
        "plt.plot(X, y_brand, label = 'brand')\n",
        "plt.plot(X, y_salecount, label = 'SalesCount')\n",
        "\n",
        "plt.legend()"
      ],
      "metadata": {
        "colab": {
          "base_uri": "https://localhost:8080/",
          "height": 462
        },
        "id": "mi_-Nz-WXv7U",
        "outputId": "6277db0c-9689-4d08-cbf0-c371eada5645"
      },
      "execution_count": null,
      "outputs": [
        {
          "output_type": "execute_result",
          "data": {
            "text/plain": [
              "<matplotlib.legend.Legend at 0x7b414908a380>"
            ]
          },
          "metadata": {},
          "execution_count": 31
        },
        {
          "output_type": "display_data",
          "data": {
            "text/plain": [
              "<Figure size 1200x500 with 1 Axes>"
            ],
            "image/png": "[encoded data removed]"
          },
          "metadata": {}
        }
      ]
    },
    {
      "cell_type": "markdown",
      "source": [
        "# 3. 인과관계 존재여부 확인"
      ],
      "metadata": {
        "id": "SbPc19aNZvws"
      }
    },
    {
      "cell_type": "markdown",
      "source": [
        "## 3-1. 모델 학습"
      ],
      "metadata": {
        "id": "facp3aioceEF"
      }
    },
    {
      "cell_type": "markdown",
      "source": [
        "`독립변수 x (Brand)` 가 `종속변수 y (Sale Count)` 에 영향을 주는지 확인한다.\n",
        "\n",
        "ols 모델은 Linear Regression 모델 이다."
      ],
      "metadata": {
        "id": "NWmxjT9LZ0mz"
      }
    },
    {
      "cell_type": "code",
      "execution_count": null,
      "metadata": {
        "id": "JSIsXg005wFQ"
      },
      "outputs": [],
      "source": [
        "from statsmodels.formula.api import ols"
      ]
    },
    {
      "cell_type": "code",
      "source": [
        "X_brand = pd.DataFrame(y_brand)\n",
        "y_salecount = pd.DataFrame(y_salecount)"
      ],
      "metadata": {
        "id": "L_azK8KFbbSa"
      },
      "execution_count": null,
      "outputs": []
    },
    {
      "cell_type": "code",
      "source": [
        "X_brand = X_brand.rename(columns={X_brand.columns[0]:'brand'}).astype({'brand':'float'})\n",
        "y_salecount = y_salecount.rename(columns={y_salecount.columns[0]:'salecount'}).astype({'salecount':'float'})"
      ],
      "metadata": {
        "id": "Pc88xhkuaEsd"
      },
      "execution_count": null,
      "outputs": []
    },
    {
      "cell_type": "code",
      "source": [
        "check_relation_data = pd.concat([y_salecount, X_brand], axis=1) # [결과, 원인]"
      ],
      "metadata": {
        "id": "gYcAd3AwbzI1"
      },
      "execution_count": null,
      "outputs": []
    },
    {
      "cell_type": "code",
      "source": [
        "ls_model = ols(\"salecount ~ brand\", data=check_relation_data).fit() # 결과 칼럼 ~ 원인 칼럼\n",
        "print(ls_model.summary())"
      ],
      "metadata": {
        "colab": {
          "base_uri": "https://localhost:8080/"
        },
        "id": "xgOW_L_1cEZj",
        "outputId": "14a58262-286c-47fc-fa5c-b0e088fc23a7"
      },
      "execution_count": null,
      "outputs": [
        {
          "output_type": "stream",
          "name": "stdout",
          "text": [
            "                            OLS Regression Results                            \n",
            "==============================================================================\n",
            "Dep. Variable:              salecount   R-squared:                       0.063\n",
            "Model:                            OLS   Adj. R-squared:                  0.061\n",
            "Method:                 Least Squares   F-statistic:                     30.70\n",
            "Date:                Mon, 14 Aug 2023   Prob (F-statistic):           5.10e-08\n",
            "Time:                        09:46:49   Log-Likelihood:                -868.99\n",
            "No. Observations:                 459   AIC:                             1742.\n",
            "Df Residuals:                     457   BIC:                             1750.\n",
            "Df Model:                           1                                         \n",
            "Covariance Type:            nonrobust                                         \n",
            "==============================================================================\n",
            "                 coef    std err          t      P>|t|      [0.025      0.975]\n",
            "------------------------------------------------------------------------------\n",
            "Intercept      2.2089      0.184     12.034      0.000       1.848       2.570\n",
            "brand         -0.0799      0.014     -5.541      0.000      -0.108      -0.052\n",
            "==============================================================================\n",
            "Omnibus:                      107.458   Durbin-Watson:                   0.327\n",
            "Prob(Omnibus):                  0.000   Jarque-Bera (JB):              191.493\n",
            "Skew:                           1.361   Prob(JB):                     2.62e-42\n",
            "Kurtosis:                       4.614   Cond. No.                         31.2\n",
            "==============================================================================\n",
            "\n",
            "Notes:\n",
            "[1] Standard Errors assume that the covariance matrix of the errors is correctly specified.\n"
          ]
        }
      ]
    },
    {
      "cell_type": "markdown",
      "metadata": {
        "id": "4FMkRLz55wFQ"
      },
      "source": [
        "1. `t_score`: 결과의 중요성을 나타내는 t-stats와 같습니다. 0에 가까울수록 의미가 없을 가능성이 높습니다. 긍정적이든 부정적이든 t-통계가 클수록 결과의 중요성이 커집니다.\n",
        "2. `coefficient_pvalue`: 앞서 언급했듯이 계수가 0(영향 없음)과 같다는 귀무 가설을 테스트합니다. 낮은 p-값(< 0.05)은 귀무 가설을 기각할 수 있음을 나타냅니다.\n",
        "3. `기울기(계수)`: 선의 두 지점 사이의 \"판매량 변화\"에 대한 \"가격 변화\"의 비율입니다.\n",
        "4. `price_mean`: 제품당 평균 가격\n",
        "5. `quantity_mean`: 제품당 판매된 평균 수량\n",
        "6. `intercept 절편`: 다른 모든 변수가 0일 때 X의 양과 같음\n",
        "7. `R-Squared` : 결정계수의 값은 0에서 1 사이에 있으며, 종속 변인과 독립변인 사이에 상관관계가 높을수록 1에 가까워진다. 즉, 결정계수가 0에 가까운 값을 가지는 회귀모형은 유용성이 낮은 반면, 결정계수의 값이 클수록 회귀모형의 유용성이 높다고 할 수 있다."
      ]
    },
    {
      "cell_type": "markdown",
      "source": [
        "`결과 해석`\n",
        "\n",
        "작은 P-값(0.000)은 브랜드키워드량이 판매 수량에 영향을 미치지 않는다는 귀무가설을 귀각할 수 있음을 보여줍니다. (즉, 영향을 미친다.)\n",
        "\n",
        "위 결과에서는, R-squared 가 0.063이므로 **brand** 가 **salecount** 에 대해 6.3% 만큼 설명한다."
      ],
      "metadata": {
        "id": "F9yptejVeXV_"
      }
    },
    {
      "cell_type": "markdown",
      "source": [
        "## 3-2. 모델 관찰"
      ],
      "metadata": {
        "id": "ro0P6bfVcjOw"
      }
    },
    {
      "cell_type": "code",
      "execution_count": null,
      "metadata": {
        "colab": {
          "base_uri": "https://localhost:8080/",
          "height": 447
        },
        "id": "f-BT7WxI5wFR",
        "outputId": "0b3425d2-918f-4b5d-c0b7-458689fdeed6"
      },
      "outputs": [
        {
          "output_type": "display_data",
          "data": {
            "text/plain": [
              "<Figure size 1200x800 with 1 Axes>"
            ],
            "image/png": "[encoded data removed]"
          },
          "metadata": {}
        }
      ],
      "source": [
        "fig = plt.figure(figsize=(12, 8))\n",
        "fig = sm.graphics.plot_ccpr_grid(ls_model, fig=fig)"
      ]
    },
    {
      "cell_type": "markdown",
      "metadata": {
        "id": "V9cIPBcY5wFR"
      },
      "source": [
        "일부 회귀선에 가까우나, 일부 데이터 포인트는 떨어져 있다. 따라서, 예측이 그다지 정확하지 않을 수 있다."
      ]
    },
    {
      "cell_type": "markdown",
      "metadata": {
        "id": "23k1Lzdr5wFL"
      },
      "source": [
        "# 4. 수요의 브랜드탄력성"
      ]
    },
    {
      "cell_type": "markdown",
      "source": [
        "## 4-1. 수요의 브랜드 탄력성 구하기"
      ],
      "metadata": {
        "id": "mMRF3ii1y8Cc"
      }
    },
    {
      "cell_type": "markdown",
      "source": [
        "`수요 (y)` 의 `가격 (X) 탄력성` | 수요의 가격탄력성은 가격의 백분율 변화에 대한 수요의 상대적 백분율 변화를 측정한다.\n",
        "\n",
        "`수요 (y)`의 `브랜드 (X) 탄력성` | **수요의 브랜드탄력성은 브랜드카운트의 백분율 변화에 대한 수요의 상대적 백분율 변화를 측정한다.**"
      ],
      "metadata": {
        "id": "50_FXYWigZue"
      }
    },
    {
      "cell_type": "code",
      "execution_count": null,
      "metadata": {
        "id": "JWNzND3V5wFV"
      },
      "outputs": [],
      "source": [
        "points = []\n",
        "results_values = {\n",
        "    \"name\": [],\n",
        "    \"brand_elasticity\": [],\n",
        "    \"brand_mean\": [],\n",
        "    \"scalecount_mean\": [],\n",
        "    \"intercept\": [],\n",
        "    \"t_score\":[],\n",
        "    \"slope\": [],\n",
        "    \"coefficient_pvalue\" : [],\n",
        "}"
      ]
    },
    {
      "cell_type": "code",
      "source": [
        "def data_for_ols(y_brand, y_salecount):\n",
        "    X_brand = pd.DataFrame(y_brand)\n",
        "    y_salecount = pd.DataFrame(y_salecount)\n",
        "\n",
        "    X_brand = X_brand.rename(columns={X_brand.columns[0]:'brand'}).astype({'brand':'float'})\n",
        "    y_salecount = y_salecount.rename(columns={y_salecount.columns[0]:'salecount'}).astype({'salecount':'float'})\n",
        "\n",
        "    check_relation_data = pd.concat([y_salecount, X_brand], axis=1) # [결과, 원인]\n",
        "    return check_relation_data"
      ],
      "metadata": {
        "id": "9_7r3nW4hoFJ"
      },
      "execution_count": null,
      "outputs": []
    },
    {
      "cell_type": "code",
      "execution_count": null,
      "metadata": {
        "id": "8VULe_Vw5wFV",
        "colab": {
          "base_uri": "https://localhost:8080/",
          "height": 49,
          "referenced_widgets": [
            "8173c9006c284ca2ba029c0888382892",
            "43666c2996324ef4b70e89f5caeb72eb",
            "480b35d693884a989b4e7c0a7ad84cbf",
            "6d0c3154cde94e72aedd8b94e12e06b2",
            "5f21c5fe85ef41df9e6d99f20b98f9dc",
            "7e8c89cf68274c1bb4cbd54eb39c648a",
            "a8a8e7ff17504c3782184e9ab1ef4d2d",
            "f57a4c6747a24cafadc2042e1e2290b4",
            "52ead7b36f1045ca8e3ea3195b3fed6a",
            "169c1082462f48459790ebfd937721b9",
            "d9a3e1b0c9af40899e8e83d7b605c73b"
          ]
        },
        "outputId": "1c56ac52-f27f-4fe3-a31f-79be5e954e4f"
      },
      "outputs": [
        {
          "output_type": "display_data",
          "data": {
            "text/plain": [
              "  0%|          | 0/15682 [00:00<?, ?it/s]"
            ],
            "application/vnd.jupyter.widget-view+json": {
              "version_major": 2,
              "version_minor": 0,
              "model_id": "8173c9006c284ca2ba029c0888382892"
            }
          },
          "metadata": {}
        }
      ],
      "source": [
        "for row in tqdm(range(len(train_data))):\n",
        "\n",
        "    #Linear Regression Model\n",
        "    _, y_salecount, _, y_brand = one_row_data(row, train_data, prices, brand_keyword_count)\n",
        "    check_relation_data = data_for_ols(y_brand, y_salecount)\n",
        "    ls_model = ols(\"salecount ~ brand\", data=check_relation_data).fit() # 결과 칼럼 ~ 원인 칼럼\n",
        "\n",
        "    #(Null Hypothesis test) Coefficient with a p value less than 0.05\n",
        "    if ls_model.f_pvalue < 0.05:\n",
        "\n",
        "        rsquared = ls_model.rsquared\n",
        "        coefficient_pvalue = ls_model.f_pvalue\n",
        "        intercept, slope = ls_model.params\n",
        "        mean_brand = np.mean(y_brand)\n",
        "        mean_scalecount = np.mean(y_salecount)\n",
        "        tintercept, t_score = ls_model.tvalues\n",
        "\n",
        "        #Brand elasticity Formula\n",
        "        brand_elasticity = (slope)*(mean_brand/mean_scalecount)\n",
        "\n",
        "        #Append results into dictionary for dataframe\n",
        "        results_values[\"name\"].append(row)\n",
        "        results_values[\"brand_elasticity\"].append(brand_elasticity)\n",
        "        results_values[\"brand_mean\"].append(mean_brand)\n",
        "        results_values[\"scalecount_mean\"].append(mean_scalecount)\n",
        "        results_values[\"intercept\"].append(intercept)\n",
        "        results_values['t_score'].append(t_score)\n",
        "        results_values[\"slope\"].append(slope)\n",
        "        results_values[\"coefficient_pvalue\"].append(coefficient_pvalue)"
      ]
    },
    {
      "cell_type": "code",
      "execution_count": null,
      "metadata": {
        "colab": {
          "base_uri": "https://localhost:8080/",
          "height": 424
        },
        "id": "Cozdz8xy5wFV",
        "outputId": "b5290af3-076c-47d6-9136-8b5509b658ef"
      },
      "outputs": [
        {
          "output_type": "execute_result",
          "data": {
            "text/plain": [
              "       name  brand_elasticity   t_score  coefficient_pvalue      slope  \\\n",
              "0         1         -0.724281 -5.540501        5.101528e-08  -0.079918   \n",
              "1         2         -1.128183 -6.744576        4.652528e-11  -0.219542   \n",
              "2         3         -0.579339 -2.444688        1.487452e-02  -0.172641   \n",
              "3        17         -0.647602 -2.821516        4.987979e-03  -3.382542   \n",
              "4        22          1.016223  4.932701        1.137520e-06   0.444192   \n",
              "...     ...               ...       ...                 ...        ...   \n",
              "5110  15652          0.140945  2.592206        9.841711e-03   4.640755   \n",
              "5111  15661         -0.389008 -2.735006        6.480486e-03 -11.836505   \n",
              "5112  15676         -3.116444 -2.318062        2.088661e-02  -0.018491   \n",
              "5113  15677         -1.237736 -2.783228        5.605159e-03  -2.873908   \n",
              "5114  15678         -0.974681 -2.077722        3.829271e-02  -0.806935   \n",
              "\n",
              "      brand_mean  scalecount_mean  intercept  \n",
              "0      11.609882         1.281046   2.208883  \n",
              "1      11.609882         2.259259   4.808118  \n",
              "2      11.609882         3.459695   5.464032  \n",
              "3       1.879088         9.814815  16.170908  \n",
              "4       1.879088         0.821351  -0.013325  \n",
              "...          ...              ...        ...  \n",
              "5110    0.147356         4.851852   4.168009  \n",
              "5111    0.147356         4.483660   6.227840  \n",
              "5112    5.507831         0.032680   0.134524  \n",
              "5113    5.507831        12.788671  28.617673  \n",
              "5114    5.507831         4.559913   9.004373  \n",
              "\n",
              "[5115 rows x 8 columns]"
            ],
            "text/html": [
              "\n",
              "\n",
              "  <div id=\"df-ffeb019d-d340-4969-b53c-d1aca86a2c51\">\n",
              "    <div class=\"colab-df-container\">\n",
              "      <div>\n",
              "<style scoped>\n",
              "    .dataframe tbody tr th:only-of-type {\n",
              "        vertical-align: middle;\n",
              "    }\n",
              "\n",
              "    .dataframe tbody tr th {\n",
              "        vertical-align: top;\n",
              "    }\n",
              "\n",
              "    .dataframe thead th {\n",
              "        text-align: right;\n",
              "    }\n",
              "</style>\n",
              "<table border=\"1\" class=\"dataframe\">\n",
              "  <thead>\n",
              "    <tr style=\"text-align: right;\">\n",
              "      <th></th>\n",
              "      <th>name</th>\n",
              "      <th>brand_elasticity</th>\n",
              "      <th>t_score</th>\n",
              "      <th>coefficient_pvalue</th>\n",
              "      <th>slope</th>\n",
              "      <th>brand_mean</th>\n",
              "      <th>scalecount_mean</th>\n",
              "      <th>intercept</th>\n",
              "    </tr>\n",
              "  </thead>\n",
              "  <tbody>\n",
              "    <tr>\n",
              "      <th>0</th>\n",
              "      <td>1</td>\n",
              "      <td>-0.724281</td>\n",
              "      <td>-5.540501</td>\n",
              "      <td>5.101528e-08</td>\n",
              "      <td>-0.079918</td>\n",
              "      <td>11.609882</td>\n",
              "      <td>1.281046</td>\n",
              "      <td>2.208883</td>\n",
              "    </tr>\n",
              "    <tr>\n",
              "      <th>1</th>\n",
              "      <td>2</td>\n",
              "      <td>-1.128183</td>\n",
              "      <td>-6.744576</td>\n",
              "      <td>4.652528e-11</td>\n",
              "      <td>-0.219542</td>\n",
              "      <td>11.609882</td>\n",
              "      <td>2.259259</td>\n",
              "      <td>4.808118</td>\n",
              "    </tr>\n",
              "    <tr>\n",
              "      <th>2</th>\n",
              "      <td>3</td>\n",
              "      <td>-0.579339</td>\n",
              "      <td>-2.444688</td>\n",
              "      <td>1.487452e-02</td>\n",
              "      <td>-0.172641</td>\n",
              "      <td>11.609882</td>\n",
              "      <td>3.459695</td>\n",
              "      <td>5.464032</td>\n",
              "    </tr>\n",
              "    <tr>\n",
              "      <th>3</th>\n",
              "      <td>17</td>\n",
              "      <td>-0.647602</td>\n",
              "      <td>-2.821516</td>\n",
              "      <td>4.987979e-03</td>\n",
              "      <td>-3.382542</td>\n",
              "      <td>1.879088</td>\n",
              "      <td>9.814815</td>\n",
              "      <td>16.170908</td>\n",
              "    </tr>\n",
              "    <tr>\n",
              "      <th>4</th>\n",
              "      <td>22</td>\n",
              "      <td>1.016223</td>\n",
              "      <td>4.932701</td>\n",
              "      <td>1.137520e-06</td>\n",
              "      <td>0.444192</td>\n",
              "      <td>1.879088</td>\n",
              "      <td>0.821351</td>\n",
              "      <td>-0.013325</td>\n",
              "    </tr>\n",
              "    <tr>\n",
              "      <th>...</th>\n",
              "      <td>...</td>\n",
              "      <td>...</td>\n",
              "      <td>...</td>\n",
              "      <td>...</td>\n",
              "      <td>...</td>\n",
              "      <td>...</td>\n",
              "      <td>...</td>\n",
              "      <td>...</td>\n",
              "    </tr>\n",
              "    <tr>\n",
              "      <th>5110</th>\n",
              "      <td>15652</td>\n",
              "      <td>0.140945</td>\n",
              "      <td>2.592206</td>\n",
              "      <td>9.841711e-03</td>\n",
              "      <td>4.640755</td>\n",
              "      <td>0.147356</td>\n",
              "      <td>4.851852</td>\n",
              "      <td>4.168009</td>\n",
              "    </tr>\n",
              "    <tr>\n",
              "      <th>5111</th>\n",
              "      <td>15661</td>\n",
              "      <td>-0.389008</td>\n",
              "      <td>-2.735006</td>\n",
              "      <td>6.480486e-03</td>\n",
              "      <td>-11.836505</td>\n",
              "      <td>0.147356</td>\n",
              "      <td>4.483660</td>\n",
              "      <td>6.227840</td>\n",
              "    </tr>\n",
              "    <tr>\n",
              "      <th>5112</th>\n",
              "      <td>15676</td>\n",
              "      <td>-3.116444</td>\n",
              "      <td>-2.318062</td>\n",
              "      <td>2.088661e-02</td>\n",
              "      <td>-0.018491</td>\n",
              "      <td>5.507831</td>\n",
              "      <td>0.032680</td>\n",
              "      <td>0.134524</td>\n",
              "    </tr>\n",
              "    <tr>\n",
              "      <th>5113</th>\n",
              "      <td>15677</td>\n",
              "      <td>-1.237736</td>\n",
              "      <td>-2.783228</td>\n",
              "      <td>5.605159e-03</td>\n",
              "      <td>-2.873908</td>\n",
              "      <td>5.507831</td>\n",
              "      <td>12.788671</td>\n",
              "      <td>28.617673</td>\n",
              "    </tr>\n",
              "    <tr>\n",
              "      <th>5114</th>\n",
              "      <td>15678</td>\n",
              "      <td>-0.974681</td>\n",
              "      <td>-2.077722</td>\n",
              "      <td>3.829271e-02</td>\n",
              "      <td>-0.806935</td>\n",
              "      <td>5.507831</td>\n",
              "      <td>4.559913</td>\n",
              "      <td>9.004373</td>\n",
              "    </tr>\n",
              "  </tbody>\n",
              "</table>\n",
              "<p>5115 rows × 8 columns</p>\n",
              "</div>\n",
              "      <button class=\"colab-df-convert\" onclick=\"convertToInteractive('df-ffeb019d-d340-4969-b53c-d1aca86a2c51')\"\n",
              "              title=\"Convert this dataframe to an interactive table.\"\n",
              "              style=\"display:none;\">\n",
              "\n",
              "  <svg xmlns=\"http://www.w3.org/2000/svg\" height=\"24px\"viewBox=\"0 0 24 24\"\n",
              "       width=\"24px\">\n",
              "    <path d=\"M0 0h24v24H0V0z\" fill=\"none\"/>\n",
              "    <path d=\"M18.56 5.44l.94 2.06.94-2.06 2.06-.94-2.06-.94-.94-2.06-.94 2.06-2.06.94zm-11 1L8.5 8.5l.94-2.06 2.06-.94-2.06-.94L8.5 2.5l-.94 2.06-2.06.94zm10 10l.94 2.06.94-2.06 2.06-.94-2.06-.94-.94-2.06-.94 2.06-2.06.94z\"/><path d=\"M17.41 7.96l-1.37-1.37c-.4-.4-.92-.59-1.43-.59-.52 0-1.04.2-1.43.59L10.3 9.45l-7.72 7.72c-.78.78-.78 2.05 0 2.83L4 21.41c.39.39.9.59 1.41.59.51 0 1.02-.2 1.41-.59l7.78-7.78 2.81-2.81c.8-.78.8-2.07 0-2.86zM5.41 20L4 18.59l7.72-7.72 1.47 1.35L5.41 20z\"/>\n",
              "  </svg>\n",
              "      </button>\n",
              "\n",
              "\n",
              "\n",
              "    <div id=\"df-4bd8543a-9ea7-481d-a86c-c9470640592d\">\n",
              "      <button class=\"colab-df-quickchart\" onclick=\"quickchart('df-4bd8543a-9ea7-481d-a86c-c9470640592d')\"\n",
              "              title=\"Suggest charts.\"\n",
              "              style=\"display:none;\">\n",
              "\n",
              "<svg xmlns=\"http://www.w3.org/2000/svg\" height=\"24px\"viewBox=\"0 0 24 24\"\n",
              "     width=\"24px\">\n",
              "    <g>\n",
              "        <path d=\"M19 3H5c-1.1 0-2 .9-2 2v14c0 1.1.9 2 2 2h14c1.1 0 2-.9 2-2V5c0-1.1-.9-2-2-2zM9 17H7v-7h2v7zm4 0h-2V7h2v10zm4 0h-2v-4h2v4z\"/>\n",
              "    </g>\n",
              "</svg>\n",
              "      </button>\n",
              "    </div>\n",
              "\n",
              "<style>\n",
              "  .colab-df-quickchart {\n",
              "    background-color: #E8F0FE;\n",
              "    border: none;\n",
              "    border-radius: 50%;\n",
              "    cursor: pointer;\n",
              "    display: none;\n",
              "    fill: #1967D2;\n",
              "    height: 32px;\n",
              "    padding: 0 0 0 0;\n",
              "    width: 32px;\n",
              "  }\n",
              "\n",
              "  .colab-df-quickchart:hover {\n",
              "    background-color: #E2EBFA;\n",
              "    box-shadow: 0px 1px 2px rgba(60, 64, 67, 0.3), 0px 1px 3px 1px rgba(60, 64, 67, 0.15);\n",
              "    fill: #174EA6;\n",
              "  }\n",
              "\n",
              "  [theme=dark] .colab-df-quickchart {\n",
              "    background-color: #3B4455;\n",
              "    fill: #D2E3FC;\n",
              "  }\n",
              "\n",
              "  [theme=dark] .colab-df-quickchart:hover {\n",
              "    background-color: #434B5C;\n",
              "    box-shadow: 0px 1px 3px 1px rgba(0, 0, 0, 0.15);\n",
              "    filter: drop-shadow(0px 1px 2px rgba(0, 0, 0, 0.3));\n",
              "    fill: #FFFFFF;\n",
              "  }\n",
              "</style>\n",
              "\n",
              "    <script>\n",
              "      async function quickchart(key) {\n",
              "        const containerElement = document.querySelector('#' + key);\n",
              "        const charts = await google.colab.kernel.invokeFunction(\n",
              "            'suggestCharts', [key], {});\n",
              "      }\n",
              "    </script>\n",
              "\n",
              "      <script>\n",
              "\n",
              "function displayQuickchartButton(domScope) {\n",
              "  let quickchartButtonEl =\n",
              "    domScope.querySelector('#df-4bd8543a-9ea7-481d-a86c-c9470640592d button.colab-df-quickchart');\n",
              "  quickchartButtonEl.style.display =\n",
              "    google.colab.kernel.accessAllowed ? 'block' : 'none';\n",
              "}\n",
              "\n",
              "        displayQuickchartButton(document);\n",
              "      </script>\n",
              "      <style>\n",
              "    .colab-df-container {\n",
              "      display:flex;\n",
              "      flex-wrap:wrap;\n",
              "      gap: 12px;\n",
              "    }\n",
              "\n",
              "    .colab-df-convert {\n",
              "      background-color: #E8F0FE;\n",
              "      border: none;\n",
              "      border-radius: 50%;\n",
              "      cursor: pointer;\n",
              "      display: none;\n",
              "      fill: #1967D2;\n",
              "      height: 32px;\n",
              "      padding: 0 0 0 0;\n",
              "      width: 32px;\n",
              "    }\n",
              "\n",
              "    .colab-df-convert:hover {\n",
              "      background-color: #E2EBFA;\n",
              "      box-shadow: 0px 1px 2px rgba(60, 64, 67, 0.3), 0px 1px 3px 1px rgba(60, 64, 67, 0.15);\n",
              "      fill: #174EA6;\n",
              "    }\n",
              "\n",
              "    [theme=dark] .colab-df-convert {\n",
              "      background-color: #3B4455;\n",
              "      fill: #D2E3FC;\n",
              "    }\n",
              "\n",
              "    [theme=dark] .colab-df-convert:hover {\n",
              "      background-color: #434B5C;\n",
              "      box-shadow: 0px 1px 3px 1px rgba(0, 0, 0, 0.15);\n",
              "      filter: drop-shadow(0px 1px 2px rgba(0, 0, 0, 0.3));\n",
              "      fill: #FFFFFF;\n",
              "    }\n",
              "  </style>\n",
              "\n",
              "      <script>\n",
              "        const buttonEl =\n",
              "          document.querySelector('#df-ffeb019d-d340-4969-b53c-d1aca86a2c51 button.colab-df-convert');\n",
              "        buttonEl.style.display =\n",
              "          google.colab.kernel.accessAllowed ? 'block' : 'none';\n",
              "\n",
              "        async function convertToInteractive(key) {\n",
              "          const element = document.querySelector('#df-ffeb019d-d340-4969-b53c-d1aca86a2c51');\n",
              "          const dataTable =\n",
              "            await google.colab.kernel.invokeFunction('convertToInteractive',\n",
              "                                                     [key], {});\n",
              "          if (!dataTable) return;\n",
              "\n",
              "          const docLinkHtml = 'Like what you see? Visit the ' +\n",
              "            '<a target=\"_blank\" href=https://colab.research.google.com/notebooks/data_table.ipynb>data table notebook</a>'\n",
              "            + ' to learn more about interactive tables.';\n",
              "          element.innerHTML = '';\n",
              "          dataTable['output_type'] = 'display_data';\n",
              "          await google.colab.output.renderOutput(dataTable, element);\n",
              "          const docLink = document.createElement('div');\n",
              "          docLink.innerHTML = docLinkHtml;\n",
              "          element.appendChild(docLink);\n",
              "        }\n",
              "      </script>\n",
              "    </div>\n",
              "  </div>\n"
            ]
          },
          "metadata": {},
          "execution_count": 211
        }
      ],
      "source": [
        "final_df = pd.DataFrame.from_dict(results_values)\n",
        "df_elasticity = final_df[['name','brand_elasticity','t_score','coefficient_pvalue','slope','brand_mean','scalecount_mean','intercept']]\n",
        "df_elasticity"
      ]
    },
    {
      "cell_type": "markdown",
      "metadata": {
        "id": "k0MMPNy-5wFX"
      },
      "source": [
        "0~1 : 비탄력적.\n",
        "\n",
        "0↓ : 브랜드 하락 - 판매 수요 증가 (가능성)\n",
        "\n",
        "0↑ : 브랜드 상승 - 판매 수요 증가 (가능성)"
      ]
    },
    {
      "cell_type": "markdown",
      "source": [
        "## 4-2. 1보다 큰 브랜드 탄력성에 대해서 제품 확인"
      ],
      "metadata": {
        "id": "GjKc-xXZzA5x"
      }
    },
    {
      "cell_type": "code",
      "source": [
        "train_data_contain_info = pd.read_csv(\"data/train.csv\").drop(NoneBrandIndex)\n",
        "train_data_contain_info = train_data_contain_info.rename(index = {j: i for i, j in enumerate(train_data_contain_info.index)})\n",
        "train_data_contain_info = train_data_contain_info.drop(columns=['ID'])"
      ],
      "metadata": {
        "id": "RasHNSGJzLWC"
      },
      "execution_count": null,
      "outputs": []
    },
    {
      "cell_type": "code",
      "source": [
        "product_info = pd.read_csv(\"data/product_info.csv\")"
      ],
      "metadata": {
        "id": "Sf7v8KSJanyg"
      },
      "execution_count": null,
      "outputs": []
    },
    {
      "cell_type": "code",
      "source": [
        "df_elasticity[df_elasticity['brand_elasticity'] > 1]"
      ],
      "metadata": {
        "colab": {
          "base_uri": "https://localhost:8080/",
          "height": 424
        },
        "outputId": "4c11a7a4-af6f-49d9-9cd2-482e6fcfe51b",
        "id": "K8uVsNUYbjol"
      },
      "execution_count": null,
      "outputs": [
        {
          "output_type": "execute_result",
          "data": {
            "text/plain": [
              "       name  brand_elasticity    t_score  coefficient_pvalue      slope  \\\n",
              "4        22          1.016223   4.932701        1.137520e-06   0.444192   \n",
              "5        23          3.659625   6.711816        5.709872e-11   1.188050   \n",
              "8        37          2.643406  14.893413        3.536132e-41   0.033165   \n",
              "18       77          1.201108   2.571246        1.044856e-02   0.091605   \n",
              "22       88          1.168547   4.959733        9.971314e-07   0.047171   \n",
              "...     ...               ...        ...                 ...        ...   \n",
              "5078  15460          7.756587   5.461131        7.781399e-08   0.088096   \n",
              "5079  15473          1.006558   5.854472        9.147527e-09  32.591072   \n",
              "5091  15516          6.034358   9.192638        1.357972e-18  30.243366   \n",
              "5100  15587          1.978502   2.056034        4.034666e-02   0.009416   \n",
              "5104  15603          2.080426   2.514529        1.226150e-02   0.127559   \n",
              "\n",
              "      brand_mean  scalecount_mean   intercept  \n",
              "4       1.879088         0.821351   -0.013325  \n",
              "5       1.879088         0.610022   -1.622429  \n",
              "8      51.747954         0.649237   -1.066961  \n",
              "18      5.170447         0.394336   -0.079304  \n",
              "22      1.673092         0.067538   -0.011383  \n",
              "...          ...              ...         ...  \n",
              "5078    0.959119         0.010893   -0.073601  \n",
              "5079    8.605061       278.620915   -1.827233  \n",
              "5091    9.135627        45.786492 -230.505610  \n",
              "5100    9.156018         0.043573   -0.042636  \n",
              "5104    4.477129         0.274510   -0.296587  \n",
              "\n",
              "[847 rows x 8 columns]"
            ],
            "text/html": [
              "\n",
              "\n",
              "  <div id=\"df-37cf4052-67cf-450f-87ca-4a02029998f0\">\n",
              "    <div class=\"colab-df-container\">\n",
              "      <div>\n",
              "<style scoped>\n",
              "    .dataframe tbody tr th:only-of-type {\n",
              "        vertical-align: middle;\n",
              "    }\n",
              "\n",
              "    .dataframe tbody tr th {\n",
              "        vertical-align: top;\n",
              "    }\n",
              "\n",
              "    .dataframe thead th {\n",
              "        text-align: right;\n",
              "    }\n",
              "</style>\n",
              "<table border=\"1\" class=\"dataframe\">\n",
              "  <thead>\n",
              "    <tr style=\"text-align: right;\">\n",
              "      <th></th>\n",
              "      <th>name</th>\n",
              "      <th>brand_elasticity</th>\n",
              "      <th>t_score</th>\n",
              "      <th>coefficient_pvalue</th>\n",
              "      <th>slope</th>\n",
              "      <th>brand_mean</th>\n",
              "      <th>scalecount_mean</th>\n",
              "      <th>intercept</th>\n",
              "    </tr>\n",
              "  </thead>\n",
              "  <tbody>\n",
              "    <tr>\n",
              "      <th>4</th>\n",
              "      <td>22</td>\n",
              "      <td>1.016223</td>\n",
              "      <td>4.932701</td>\n",
              "      <td>1.137520e-06</td>\n",
              "      <td>0.444192</td>\n",
              "      <td>1.879088</td>\n",
              "      <td>0.821351</td>\n",
              "      <td>-0.013325</td>\n",
              "    </tr>\n",
              "    <tr>\n",
              "      <th>5</th>\n",
              "      <td>23</td>\n",
              "      <td>3.659625</td>\n",
              "      <td>6.711816</td>\n",
              "      <td>5.709872e-11</td>\n",
              "      <td>1.188050</td>\n",
              "      <td>1.879088</td>\n",
              "      <td>0.610022</td>\n",
              "      <td>-1.622429</td>\n",
              "    </tr>\n",
              "    <tr>\n",
              "      <th>8</th>\n",
              "      <td>37</td>\n",
              "      <td>2.643406</td>\n",
              "      <td>14.893413</td>\n",
              "      <td>3.536132e-41</td>\n",
              "      <td>0.033165</td>\n",
              "      <td>51.747954</td>\n",
              "      <td>0.649237</td>\n",
              "      <td>-1.066961</td>\n",
              "    </tr>\n",
              "    <tr>\n",
              "      <th>18</th>\n",
              "      <td>77</td>\n",
              "      <td>1.201108</td>\n",
              "      <td>2.571246</td>\n",
              "      <td>1.044856e-02</td>\n",
              "      <td>0.091605</td>\n",
              "      <td>5.170447</td>\n",
              "      <td>0.394336</td>\n",
              "      <td>-0.079304</td>\n",
              "    </tr>\n",
              "    <tr>\n",
              "      <th>22</th>\n",
              "      <td>88</td>\n",
              "      <td>1.168547</td>\n",
              "      <td>4.959733</td>\n",
              "      <td>9.971314e-07</td>\n",
              "      <td>0.047171</td>\n",
              "      <td>1.673092</td>\n",
              "      <td>0.067538</td>\n",
              "      <td>-0.011383</td>\n",
              "    </tr>\n",
              "    <tr>\n",
              "      <th>...</th>\n",
              "      <td>...</td>\n",
              "      <td>...</td>\n",
              "      <td>...</td>\n",
              "      <td>...</td>\n",
              "      <td>...</td>\n",
              "      <td>...</td>\n",
              "      <td>...</td>\n",
              "      <td>...</td>\n",
              "    </tr>\n",
              "    <tr>\n",
              "      <th>5078</th>\n",
              "      <td>15460</td>\n",
              "      <td>7.756587</td>\n",
              "      <td>5.461131</td>\n",
              "      <td>7.781399e-08</td>\n",
              "      <td>0.088096</td>\n",
              "      <td>0.959119</td>\n",
              "      <td>0.010893</td>\n",
              "      <td>-0.073601</td>\n",
              "    </tr>\n",
              "    <tr>\n",
              "      <th>5079</th>\n",
              "      <td>15473</td>\n",
              "      <td>1.006558</td>\n",
              "      <td>5.854472</td>\n",
              "      <td>9.147527e-09</td>\n",
              "      <td>32.591072</td>\n",
              "      <td>8.605061</td>\n",
              "      <td>278.620915</td>\n",
              "      <td>-1.827233</td>\n",
              "    </tr>\n",
              "    <tr>\n",
              "      <th>5091</th>\n",
              "      <td>15516</td>\n",
              "      <td>6.034358</td>\n",
              "      <td>9.192638</td>\n",
              "      <td>1.357972e-18</td>\n",
              "      <td>30.243366</td>\n",
              "      <td>9.135627</td>\n",
              "      <td>45.786492</td>\n",
              "      <td>-230.505610</td>\n",
              "    </tr>\n",
              "    <tr>\n",
              "      <th>5100</th>\n",
              "      <td>15587</td>\n",
              "      <td>1.978502</td>\n",
              "      <td>2.056034</td>\n",
              "      <td>4.034666e-02</td>\n",
              "      <td>0.009416</td>\n",
              "      <td>9.156018</td>\n",
              "      <td>0.043573</td>\n",
              "      <td>-0.042636</td>\n",
              "    </tr>\n",
              "    <tr>\n",
              "      <th>5104</th>\n",
              "      <td>15603</td>\n",
              "      <td>2.080426</td>\n",
              "      <td>2.514529</td>\n",
              "      <td>1.226150e-02</td>\n",
              "      <td>0.127559</td>\n",
              "      <td>4.477129</td>\n",
              "      <td>0.274510</td>\n",
              "      <td>-0.296587</td>\n",
              "    </tr>\n",
              "  </tbody>\n",
              "</table>\n",
              "<p>847 rows × 8 columns</p>\n",
              "</div>\n",
              "      <button class=\"colab-df-convert\" onclick=\"convertToInteractive('df-37cf4052-67cf-450f-87ca-4a02029998f0')\"\n",
              "              title=\"Convert this dataframe to an interactive table.\"\n",
              "              style=\"display:none;\">\n",
              "\n",
              "  <svg xmlns=\"http://www.w3.org/2000/svg\" height=\"24px\"viewBox=\"0 0 24 24\"\n",
              "       width=\"24px\">\n",
              "    <path d=\"M0 0h24v24H0V0z\" fill=\"none\"/>\n",
              "    <path d=\"M18.56 5.44l.94 2.06.94-2.06 2.06-.94-2.06-.94-.94-2.06-.94 2.06-2.06.94zm-11 1L8.5 8.5l.94-2.06 2.06-.94-2.06-.94L8.5 2.5l-.94 2.06-2.06.94zm10 10l.94 2.06.94-2.06 2.06-.94-2.06-.94-.94-2.06-.94 2.06-2.06.94z\"/><path d=\"M17.41 7.96l-1.37-1.37c-.4-.4-.92-.59-1.43-.59-.52 0-1.04.2-1.43.59L10.3 9.45l-7.72 7.72c-.78.78-.78 2.05 0 2.83L4 21.41c.39.39.9.59 1.41.59.51 0 1.02-.2 1.41-.59l7.78-7.78 2.81-2.81c.8-.78.8-2.07 0-2.86zM5.41 20L4 18.59l7.72-7.72 1.47 1.35L5.41 20z\"/>\n",
              "  </svg>\n",
              "      </button>\n",
              "\n",
              "\n",
              "\n",
              "    <div id=\"df-e4318801-d5e5-431f-a503-532dac8cd822\">\n",
              "      <button class=\"colab-df-quickchart\" onclick=\"quickchart('df-e4318801-d5e5-431f-a503-532dac8cd822')\"\n",
              "              title=\"Suggest charts.\"\n",
              "              style=\"display:none;\">\n",
              "\n",
              "<svg xmlns=\"http://www.w3.org/2000/svg\" height=\"24px\"viewBox=\"0 0 24 24\"\n",
              "     width=\"24px\">\n",
              "    <g>\n",
              "        <path d=\"M19 3H5c-1.1 0-2 .9-2 2v14c0 1.1.9 2 2 2h14c1.1 0 2-.9 2-2V5c0-1.1-.9-2-2-2zM9 17H7v-7h2v7zm4 0h-2V7h2v10zm4 0h-2v-4h2v4z\"/>\n",
              "    </g>\n",
              "</svg>\n",
              "      </button>\n",
              "    </div>\n",
              "\n",
              "<style>\n",
              "  .colab-df-quickchart {\n",
              "    background-color: #E8F0FE;\n",
              "    border: none;\n",
              "    border-radius: 50%;\n",
              "    cursor: pointer;\n",
              "    display: none;\n",
              "    fill: #1967D2;\n",
              "    height: 32px;\n",
              "    padding: 0 0 0 0;\n",
              "    width: 32px;\n",
              "  }\n",
              "\n",
              "  .colab-df-quickchart:hover {\n",
              "    background-color: #E2EBFA;\n",
              "    box-shadow: 0px 1px 2px rgba(60, 64, 67, 0.3), 0px 1px 3px 1px rgba(60, 64, 67, 0.15);\n",
              "    fill: #174EA6;\n",
              "  }\n",
              "\n",
              "  [theme=dark] .colab-df-quickchart {\n",
              "    background-color: #3B4455;\n",
              "    fill: #D2E3FC;\n",
              "  }\n",
              "\n",
              "  [theme=dark] .colab-df-quickchart:hover {\n",
              "    background-color: #434B5C;\n",
              "    box-shadow: 0px 1px 3px 1px rgba(0, 0, 0, 0.15);\n",
              "    filter: drop-shadow(0px 1px 2px rgba(0, 0, 0, 0.3));\n",
              "    fill: #FFFFFF;\n",
              "  }\n",
              "</style>\n",
              "\n",
              "    <script>\n",
              "      async function quickchart(key) {\n",
              "        const containerElement = document.querySelector('#' + key);\n",
              "        const charts = await google.colab.kernel.invokeFunction(\n",
              "            'suggestCharts', [key], {});\n",
              "      }\n",
              "    </script>\n",
              "\n",
              "      <script>\n",
              "\n",
              "function displayQuickchartButton(domScope) {\n",
              "  let quickchartButtonEl =\n",
              "    domScope.querySelector('#df-e4318801-d5e5-431f-a503-532dac8cd822 button.colab-df-quickchart');\n",
              "  quickchartButtonEl.style.display =\n",
              "    google.colab.kernel.accessAllowed ? 'block' : 'none';\n",
              "}\n",
              "\n",
              "        displayQuickchartButton(document);\n",
              "      </script>\n",
              "      <style>\n",
              "    .colab-df-container {\n",
              "      display:flex;\n",
              "      flex-wrap:wrap;\n",
              "      gap: 12px;\n",
              "    }\n",
              "\n",
              "    .colab-df-convert {\n",
              "      background-color: #E8F0FE;\n",
              "      border: none;\n",
              "      border-radius: 50%;\n",
              "      cursor: pointer;\n",
              "      display: none;\n",
              "      fill: #1967D2;\n",
              "      height: 32px;\n",
              "      padding: 0 0 0 0;\n",
              "      width: 32px;\n",
              "    }\n",
              "\n",
              "    .colab-df-convert:hover {\n",
              "      background-color: #E2EBFA;\n",
              "      box-shadow: 0px 1px 2px rgba(60, 64, 67, 0.3), 0px 1px 3px 1px rgba(60, 64, 67, 0.15);\n",
              "      fill: #174EA6;\n",
              "    }\n",
              "\n",
              "    [theme=dark] .colab-df-convert {\n",
              "      background-color: #3B4455;\n",
              "      fill: #D2E3FC;\n",
              "    }\n",
              "\n",
              "    [theme=dark] .colab-df-convert:hover {\n",
              "      background-color: #434B5C;\n",
              "      box-shadow: 0px 1px 3px 1px rgba(0, 0, 0, 0.15);\n",
              "      filter: drop-shadow(0px 1px 2px rgba(0, 0, 0, 0.3));\n",
              "      fill: #FFFFFF;\n",
              "    }\n",
              "  </style>\n",
              "\n",
              "      <script>\n",
              "        const buttonEl =\n",
              "          document.querySelector('#df-37cf4052-67cf-450f-87ca-4a02029998f0 button.colab-df-convert');\n",
              "        buttonEl.style.display =\n",
              "          google.colab.kernel.accessAllowed ? 'block' : 'none';\n",
              "\n",
              "        async function convertToInteractive(key) {\n",
              "          const element = document.querySelector('#df-37cf4052-67cf-450f-87ca-4a02029998f0');\n",
              "          const dataTable =\n",
              "            await google.colab.kernel.invokeFunction('convertToInteractive',\n",
              "                                                     [key], {});\n",
              "          if (!dataTable) return;\n",
              "\n",
              "          const docLinkHtml = 'Like what you see? Visit the ' +\n",
              "            '<a target=\"_blank\" href=https://colab.research.google.com/notebooks/data_table.ipynb>data table notebook</a>'\n",
              "            + ' to learn more about interactive tables.';\n",
              "          element.innerHTML = '';\n",
              "          dataTable['output_type'] = 'display_data';\n",
              "          await google.colab.output.renderOutput(dataTable, element);\n",
              "          const docLink = document.createElement('div');\n",
              "          docLink.innerHTML = docLinkHtml;\n",
              "          element.appendChild(docLink);\n",
              "        }\n",
              "      </script>\n",
              "    </div>\n",
              "  </div>\n"
            ]
          },
          "metadata": {},
          "execution_count": 212
        }
      ]
    },
    {
      "cell_type": "code",
      "source": [
        "product_info[product_info['제품'] == train_data_contain_info.loc[7265, '제품']]"
      ],
      "metadata": {
        "colab": {
          "base_uri": "https://localhost:8080/",
          "height": 162
        },
        "id": "SDipkQtMaVeC",
        "outputId": "165e53f3-c8e2-48b6-b71e-0339cf485427"
      },
      "execution_count": null,
      "outputs": [
        {
          "output_type": "execute_result",
          "data": {
            "text/plain": [
              "                     제품                                               제품특성\n",
              "11271  B002-01807-00003  피부타입:모든피부용 주요제품특징:촉촉함(수분공급) 용기형태:튜브형 용량:35ml(g..."
            ],
            "text/html": [
              "\n",
              "\n",
              "  <div id=\"df-725e1d71-466e-4d1e-81c3-cecaceb49067\">\n",
              "    <div class=\"colab-df-container\">\n",
              "      <div>\n",
              "<style scoped>\n",
              "    .dataframe tbody tr th:only-of-type {\n",
              "        vertical-align: middle;\n",
              "    }\n",
              "\n",
              "    .dataframe tbody tr th {\n",
              "        vertical-align: top;\n",
              "    }\n",
              "\n",
              "    .dataframe thead th {\n",
              "        text-align: right;\n",
              "    }\n",
              "</style>\n",
              "<table border=\"1\" class=\"dataframe\">\n",
              "  <thead>\n",
              "    <tr style=\"text-align: right;\">\n",
              "      <th></th>\n",
              "      <th>제품</th>\n",
              "      <th>제품특성</th>\n",
              "    </tr>\n",
              "  </thead>\n",
              "  <tbody>\n",
              "    <tr>\n",
              "      <th>11271</th>\n",
              "      <td>B002-01807-00003</td>\n",
              "      <td>피부타입:모든피부용 주요제품특징:촉촉함(수분공급) 용기형태:튜브형 용량:35ml(g...</td>\n",
              "    </tr>\n",
              "  </tbody>\n",
              "</table>\n",
              "</div>\n",
              "      <button class=\"colab-df-convert\" onclick=\"convertToInteractive('df-725e1d71-466e-4d1e-81c3-cecaceb49067')\"\n",
              "              title=\"Convert this dataframe to an interactive table.\"\n",
              "              style=\"display:none;\">\n",
              "\n",
              "  <svg xmlns=\"http://www.w3.org/2000/svg\" height=\"24px\"viewBox=\"0 0 24 24\"\n",
              "       width=\"24px\">\n",
              "    <path d=\"M0 0h24v24H0V0z\" fill=\"none\"/>\n",
              "    <path d=\"M18.56 5.44l.94 2.06.94-2.06 2.06-.94-2.06-.94-.94-2.06-.94 2.06-2.06.94zm-11 1L8.5 8.5l.94-2.06 2.06-.94-2.06-.94L8.5 2.5l-.94 2.06-2.06.94zm10 10l.94 2.06.94-2.06 2.06-.94-2.06-.94-.94-2.06-.94 2.06-2.06.94z\"/><path d=\"M17.41 7.96l-1.37-1.37c-.4-.4-.92-.59-1.43-.59-.52 0-1.04.2-1.43.59L10.3 9.45l-7.72 7.72c-.78.78-.78 2.05 0 2.83L4 21.41c.39.39.9.59 1.41.59.51 0 1.02-.2 1.41-.59l7.78-7.78 2.81-2.81c.8-.78.8-2.07 0-2.86zM5.41 20L4 18.59l7.72-7.72 1.47 1.35L5.41 20z\"/>\n",
              "  </svg>\n",
              "      </button>\n",
              "\n",
              "\n",
              "\n",
              "    <div id=\"df-c86fc679-18c3-44d7-8444-e3649b1e1f8e\">\n",
              "      <button class=\"colab-df-quickchart\" onclick=\"quickchart('df-c86fc679-18c3-44d7-8444-e3649b1e1f8e')\"\n",
              "              title=\"Suggest charts.\"\n",
              "              style=\"display:none;\">\n",
              "\n",
              "<svg xmlns=\"http://www.w3.org/2000/svg\" height=\"24px\"viewBox=\"0 0 24 24\"\n",
              "     width=\"24px\">\n",
              "    <g>\n",
              "        <path d=\"M19 3H5c-1.1 0-2 .9-2 2v14c0 1.1.9 2 2 2h14c1.1 0 2-.9 2-2V5c0-1.1-.9-2-2-2zM9 17H7v-7h2v7zm4 0h-2V7h2v10zm4 0h-2v-4h2v4z\"/>\n",
              "    </g>\n",
              "</svg>\n",
              "      </button>\n",
              "    </div>\n",
              "\n",
              "<style>\n",
              "  .colab-df-quickchart {\n",
              "    background-color: #E8F0FE;\n",
              "    border: none;\n",
              "    border-radius: 50%;\n",
              "    cursor: pointer;\n",
              "    display: none;\n",
              "    fill: #1967D2;\n",
              "    height: 32px;\n",
              "    padding: 0 0 0 0;\n",
              "    width: 32px;\n",
              "  }\n",
              "\n",
              "  .colab-df-quickchart:hover {\n",
              "    background-color: #E2EBFA;\n",
              "    box-shadow: 0px 1px 2px rgba(60, 64, 67, 0.3), 0px 1px 3px 1px rgba(60, 64, 67, 0.15);\n",
              "    fill: #174EA6;\n",
              "  }\n",
              "\n",
              "  [theme=dark] .colab-df-quickchart {\n",
              "    background-color: #3B4455;\n",
              "    fill: #D2E3FC;\n",
              "  }\n",
              "\n",
              "  [theme=dark] .colab-df-quickchart:hover {\n",
              "    background-color: #434B5C;\n",
              "    box-shadow: 0px 1px 3px 1px rgba(0, 0, 0, 0.15);\n",
              "    filter: drop-shadow(0px 1px 2px rgba(0, 0, 0, 0.3));\n",
              "    fill: #FFFFFF;\n",
              "  }\n",
              "</style>\n",
              "\n",
              "    <script>\n",
              "      async function quickchart(key) {\n",
              "        const containerElement = document.querySelector('#' + key);\n",
              "        const charts = await google.colab.kernel.invokeFunction(\n",
              "            'suggestCharts', [key], {});\n",
              "      }\n",
              "    </script>\n",
              "\n",
              "      <script>\n",
              "\n",
              "function displayQuickchartButton(domScope) {\n",
              "  let quickchartButtonEl =\n",
              "    domScope.querySelector('#df-c86fc679-18c3-44d7-8444-e3649b1e1f8e button.colab-df-quickchart');\n",
              "  quickchartButtonEl.style.display =\n",
              "    google.colab.kernel.accessAllowed ? 'block' : 'none';\n",
              "}\n",
              "\n",
              "        displayQuickchartButton(document);\n",
              "      </script>\n",
              "      <style>\n",
              "    .colab-df-container {\n",
              "      display:flex;\n",
              "      flex-wrap:wrap;\n",
              "      gap: 12px;\n",
              "    }\n",
              "\n",
              "    .colab-df-convert {\n",
              "      background-color: #E8F0FE;\n",
              "      border: none;\n",
              "      border-radius: 50%;\n",
              "      cursor: pointer;\n",
              "      display: none;\n",
              "      fill: #1967D2;\n",
              "      height: 32px;\n",
              "      padding: 0 0 0 0;\n",
              "      width: 32px;\n",
              "    }\n",
              "\n",
              "    .colab-df-convert:hover {\n",
              "      background-color: #E2EBFA;\n",
              "      box-shadow: 0px 1px 2px rgba(60, 64, 67, 0.3), 0px 1px 3px 1px rgba(60, 64, 67, 0.15);\n",
              "      fill: #174EA6;\n",
              "    }\n",
              "\n",
              "    [theme=dark] .colab-df-convert {\n",
              "      background-color: #3B4455;\n",
              "      fill: #D2E3FC;\n",
              "    }\n",
              "\n",
              "    [theme=dark] .colab-df-convert:hover {\n",
              "      background-color: #434B5C;\n",
              "      box-shadow: 0px 1px 3px 1px rgba(0, 0, 0, 0.15);\n",
              "      filter: drop-shadow(0px 1px 2px rgba(0, 0, 0, 0.3));\n",
              "      fill: #FFFFFF;\n",
              "    }\n",
              "  </style>\n",
              "\n",
              "      <script>\n",
              "        const buttonEl =\n",
              "          document.querySelector('#df-725e1d71-466e-4d1e-81c3-cecaceb49067 button.colab-df-convert');\n",
              "        buttonEl.style.display =\n",
              "          google.colab.kernel.accessAllowed ? 'block' : 'none';\n",
              "\n",
              "        async function convertToInteractive(key) {\n",
              "          const element = document.querySelector('#df-725e1d71-466e-4d1e-81c3-cecaceb49067');\n",
              "          const dataTable =\n",
              "            await google.colab.kernel.invokeFunction('convertToInteractive',\n",
              "                                                     [key], {});\n",
              "          if (!dataTable) return;\n",
              "\n",
              "          const docLinkHtml = 'Like what you see? Visit the ' +\n",
              "            '<a target=\"_blank\" href=https://colab.research.google.com/notebooks/data_table.ipynb>data table notebook</a>'\n",
              "            + ' to learn more about interactive tables.';\n",
              "          element.innerHTML = '';\n",
              "          dataTable['output_type'] = 'display_data';\n",
              "          await google.colab.output.renderOutput(dataTable, element);\n",
              "          const docLink = document.createElement('div');\n",
              "          docLink.innerHTML = docLinkHtml;\n",
              "          element.appendChild(docLink);\n",
              "        }\n",
              "      </script>\n",
              "    </div>\n",
              "  </div>\n"
            ]
          },
          "metadata": {},
          "execution_count": 233
        }
      ]
    },
    {
      "cell_type": "markdown",
      "metadata": {
        "id": "Q-tjk5xU5wFW"
      },
      "source": [
        "## 4-3. 브랜드 탄력성 랭킹"
      ]
    },
    {
      "cell_type": "code",
      "execution_count": null,
      "metadata": {
        "id": "kg-ETQA-5wFX"
      },
      "outputs": [],
      "source": [
        "values_column = 'brand_elasticity'\n",
        "ylabel = 'Ranking Number'\n",
        "xlabel = 'Brand Elasticity'\n",
        "df = df_elasticity"
      ]
    },
    {
      "cell_type": "code",
      "execution_count": null,
      "metadata": {
        "scrolled": true,
        "colab": {
          "base_uri": "https://localhost:8080/",
          "height": 455
        },
        "id": "nz2Q85xP5wFX",
        "outputId": "33a6a0c3-30e5-4789-b837-7188844fcc62"
      },
      "outputs": [
        {
          "output_type": "display_data",
          "data": {
            "text/plain": [
              "          name  brand_elasticity\n",
              "ranking                         \n",
              "5115      7265         17.686519\n",
              "5114     10164         12.623280\n",
              "5113      8680         12.118606\n",
              "5112     13210          8.832632\n",
              "5111     10162          8.809731\n",
              "...        ...               ...\n",
              "5         6901         -6.337749\n",
              "4         4717         -7.431976\n",
              "3         9851         -7.591535\n",
              "2        10961         -7.608763\n",
              "1          630         -8.298955\n",
              "\n",
              "[5115 rows x 2 columns]"
            ],
            "text/html": [
              "\n",
              "\n",
              "  <div id=\"df-98cf53b5-3e94-4e05-9f57-6145ca7f29a6\">\n",
              "    <div class=\"colab-df-container\">\n",
              "      <div>\n",
              "<style scoped>\n",
              "    .dataframe tbody tr th:only-of-type {\n",
              "        vertical-align: middle;\n",
              "    }\n",
              "\n",
              "    .dataframe tbody tr th {\n",
              "        vertical-align: top;\n",
              "    }\n",
              "\n",
              "    .dataframe thead th {\n",
              "        text-align: right;\n",
              "    }\n",
              "</style>\n",
              "<table border=\"1\" class=\"dataframe\">\n",
              "  <thead>\n",
              "    <tr style=\"text-align: right;\">\n",
              "      <th></th>\n",
              "      <th>name</th>\n",
              "      <th>brand_elasticity</th>\n",
              "    </tr>\n",
              "    <tr>\n",
              "      <th>ranking</th>\n",
              "      <th></th>\n",
              "      <th></th>\n",
              "    </tr>\n",
              "  </thead>\n",
              "  <tbody>\n",
              "    <tr>\n",
              "      <th>5115</th>\n",
              "      <td>7265</td>\n",
              "      <td>17.686519</td>\n",
              "    </tr>\n",
              "    <tr>\n",
              "      <th>5114</th>\n",
              "      <td>10164</td>\n",
              "      <td>12.623280</td>\n",
              "    </tr>\n",
              "    <tr>\n",
              "      <th>5113</th>\n",
              "      <td>8680</td>\n",
              "      <td>12.118606</td>\n",
              "    </tr>\n",
              "    <tr>\n",
              "      <th>5112</th>\n",
              "      <td>13210</td>\n",
              "      <td>8.832632</td>\n",
              "    </tr>\n",
              "    <tr>\n",
              "      <th>5111</th>\n",
              "      <td>10162</td>\n",
              "      <td>8.809731</td>\n",
              "    </tr>\n",
              "    <tr>\n",
              "      <th>...</th>\n",
              "      <td>...</td>\n",
              "      <td>...</td>\n",
              "    </tr>\n",
              "    <tr>\n",
              "      <th>5</th>\n",
              "      <td>6901</td>\n",
              "      <td>-6.337749</td>\n",
              "    </tr>\n",
              "    <tr>\n",
              "      <th>4</th>\n",
              "      <td>4717</td>\n",
              "      <td>-7.431976</td>\n",
              "    </tr>\n",
              "    <tr>\n",
              "      <th>3</th>\n",
              "      <td>9851</td>\n",
              "      <td>-7.591535</td>\n",
              "    </tr>\n",
              "    <tr>\n",
              "      <th>2</th>\n",
              "      <td>10961</td>\n",
              "      <td>-7.608763</td>\n",
              "    </tr>\n",
              "    <tr>\n",
              "      <th>1</th>\n",
              "      <td>630</td>\n",
              "      <td>-8.298955</td>\n",
              "    </tr>\n",
              "  </tbody>\n",
              "</table>\n",
              "<p>5115 rows × 2 columns</p>\n",
              "</div>\n",
              "      <button class=\"colab-df-convert\" onclick=\"convertToInteractive('df-98cf53b5-3e94-4e05-9f57-6145ca7f29a6')\"\n",
              "              title=\"Convert this dataframe to an interactive table.\"\n",
              "              style=\"display:none;\">\n",
              "\n",
              "  <svg xmlns=\"http://www.w3.org/2000/svg\" height=\"24px\"viewBox=\"0 0 24 24\"\n",
              "       width=\"24px\">\n",
              "    <path d=\"M0 0h24v24H0V0z\" fill=\"none\"/>\n",
              "    <path d=\"M18.56 5.44l.94 2.06.94-2.06 2.06-.94-2.06-.94-.94-2.06-.94 2.06-2.06.94zm-11 1L8.5 8.5l.94-2.06 2.06-.94-2.06-.94L8.5 2.5l-.94 2.06-2.06.94zm10 10l.94 2.06.94-2.06 2.06-.94-2.06-.94-.94-2.06-.94 2.06-2.06.94z\"/><path d=\"M17.41 7.96l-1.37-1.37c-.4-.4-.92-.59-1.43-.59-.52 0-1.04.2-1.43.59L10.3 9.45l-7.72 7.72c-.78.78-.78 2.05 0 2.83L4 21.41c.39.39.9.59 1.41.59.51 0 1.02-.2 1.41-.59l7.78-7.78 2.81-2.81c.8-.78.8-2.07 0-2.86zM5.41 20L4 18.59l7.72-7.72 1.47 1.35L5.41 20z\"/>\n",
              "  </svg>\n",
              "      </button>\n",
              "\n",
              "\n",
              "\n",
              "    <div id=\"df-1bd26d90-4160-4215-961b-d79e3323637b\">\n",
              "      <button class=\"colab-df-quickchart\" onclick=\"quickchart('df-1bd26d90-4160-4215-961b-d79e3323637b')\"\n",
              "              title=\"Suggest charts.\"\n",
              "              style=\"display:none;\">\n",
              "\n",
              "<svg xmlns=\"http://www.w3.org/2000/svg\" height=\"24px\"viewBox=\"0 0 24 24\"\n",
              "     width=\"24px\">\n",
              "    <g>\n",
              "        <path d=\"M19 3H5c-1.1 0-2 .9-2 2v14c0 1.1.9 2 2 2h14c1.1 0 2-.9 2-2V5c0-1.1-.9-2-2-2zM9 17H7v-7h2v7zm4 0h-2V7h2v10zm4 0h-2v-4h2v4z\"/>\n",
              "    </g>\n",
              "</svg>\n",
              "      </button>\n",
              "    </div>\n",
              "\n",
              "<style>\n",
              "  .colab-df-quickchart {\n",
              "    background-color: #E8F0FE;\n",
              "    border: none;\n",
              "    border-radius: 50%;\n",
              "    cursor: pointer;\n",
              "    display: none;\n",
              "    fill: #1967D2;\n",
              "    height: 32px;\n",
              "    padding: 0 0 0 0;\n",
              "    width: 32px;\n",
              "  }\n",
              "\n",
              "  .colab-df-quickchart:hover {\n",
              "    background-color: #E2EBFA;\n",
              "    box-shadow: 0px 1px 2px rgba(60, 64, 67, 0.3), 0px 1px 3px 1px rgba(60, 64, 67, 0.15);\n",
              "    fill: #174EA6;\n",
              "  }\n",
              "\n",
              "  [theme=dark] .colab-df-quickchart {\n",
              "    background-color: #3B4455;\n",
              "    fill: #D2E3FC;\n",
              "  }\n",
              "\n",
              "  [theme=dark] .colab-df-quickchart:hover {\n",
              "    background-color: #434B5C;\n",
              "    box-shadow: 0px 1px 3px 1px rgba(0, 0, 0, 0.15);\n",
              "    filter: drop-shadow(0px 1px 2px rgba(0, 0, 0, 0.3));\n",
              "    fill: #FFFFFF;\n",
              "  }\n",
              "</style>\n",
              "\n",
              "    <script>\n",
              "      async function quickchart(key) {\n",
              "        const containerElement = document.querySelector('#' + key);\n",
              "        const charts = await google.colab.kernel.invokeFunction(\n",
              "            'suggestCharts', [key], {});\n",
              "      }\n",
              "    </script>\n",
              "\n",
              "      <script>\n",
              "\n",
              "function displayQuickchartButton(domScope) {\n",
              "  let quickchartButtonEl =\n",
              "    domScope.querySelector('#df-1bd26d90-4160-4215-961b-d79e3323637b button.colab-df-quickchart');\n",
              "  quickchartButtonEl.style.display =\n",
              "    google.colab.kernel.accessAllowed ? 'block' : 'none';\n",
              "}\n",
              "\n",
              "        displayQuickchartButton(document);\n",
              "      </script>\n",
              "      <style>\n",
              "    .colab-df-container {\n",
              "      display:flex;\n",
              "      flex-wrap:wrap;\n",
              "      gap: 12px;\n",
              "    }\n",
              "\n",
              "    .colab-df-convert {\n",
              "      background-color: #E8F0FE;\n",
              "      border: none;\n",
              "      border-radius: 50%;\n",
              "      cursor: pointer;\n",
              "      display: none;\n",
              "      fill: #1967D2;\n",
              "      height: 32px;\n",
              "      padding: 0 0 0 0;\n",
              "      width: 32px;\n",
              "    }\n",
              "\n",
              "    .colab-df-convert:hover {\n",
              "      background-color: #E2EBFA;\n",
              "      box-shadow: 0px 1px 2px rgba(60, 64, 67, 0.3), 0px 1px 3px 1px rgba(60, 64, 67, 0.15);\n",
              "      fill: #174EA6;\n",
              "    }\n",
              "\n",
              "    [theme=dark] .colab-df-convert {\n",
              "      background-color: #3B4455;\n",
              "      fill: #D2E3FC;\n",
              "    }\n",
              "\n",
              "    [theme=dark] .colab-df-convert:hover {\n",
              "      background-color: #434B5C;\n",
              "      box-shadow: 0px 1px 3px 1px rgba(0, 0, 0, 0.15);\n",
              "      filter: drop-shadow(0px 1px 2px rgba(0, 0, 0, 0.3));\n",
              "      fill: #FFFFFF;\n",
              "    }\n",
              "  </style>\n",
              "\n",
              "      <script>\n",
              "        const buttonEl =\n",
              "          document.querySelector('#df-98cf53b5-3e94-4e05-9f57-6145ca7f29a6 button.colab-df-convert');\n",
              "        buttonEl.style.display =\n",
              "          google.colab.kernel.accessAllowed ? 'block' : 'none';\n",
              "\n",
              "        async function convertToInteractive(key) {\n",
              "          const element = document.querySelector('#df-98cf53b5-3e94-4e05-9f57-6145ca7f29a6');\n",
              "          const dataTable =\n",
              "            await google.colab.kernel.invokeFunction('convertToInteractive',\n",
              "                                                     [key], {});\n",
              "          if (!dataTable) return;\n",
              "\n",
              "          const docLinkHtml = 'Like what you see? Visit the ' +\n",
              "            '<a target=\"_blank\" href=https://colab.research.google.com/notebooks/data_table.ipynb>data table notebook</a>'\n",
              "            + ' to learn more about interactive tables.';\n",
              "          element.innerHTML = '';\n",
              "          dataTable['output_type'] = 'display_data';\n",
              "          await google.colab.output.renderOutput(dataTable, element);\n",
              "          const docLink = document.createElement('div');\n",
              "          docLink.innerHTML = docLinkHtml;\n",
              "          element.appendChild(docLink);\n",
              "        }\n",
              "      </script>\n",
              "    </div>\n",
              "  </div>\n"
            ]
          },
          "metadata": {}
        }
      ],
      "source": [
        "df['ranking'] = df[values_column].rank(ascending = True).astype(int)\n",
        "df.sort_values(values_column, ascending =False, inplace = True)\n",
        "\n",
        "#Adjust Ranking column and print dataframe\n",
        "pd.set_option('display.width', 4000)\n",
        "cols = list(df.columns)\n",
        "cols = [cols[-1]] + cols[:-1]\n",
        "df = df[cols]\n",
        "\n",
        "df = df.iloc[:,:3]\n",
        "df.set_index('ranking', inplace=True)\n",
        "display(df)"
      ]
    }
  ],
  "metadata": {
    "kernelspec": {
      "display_name": "Python 3",
      "name": "python3"
    },
    "language_info": {
      "codemirror_mode": {
        "name": "ipython",
        "version": 3
      },
      "file_extension": ".py",
      "mimetype": "text/x-python",
      "name": "python",
      "nbconvert_exporter": "python",
      "pygments_lexer": "ipython3",
      "version": "3.8.5"
    },
    "colab": {
      "provenance": [],
      "machine_shape": "hm",
      "gpuType": "T4",
      "collapsed_sections": [
        "ZZK_yDuG5wEx",
        "07UaPd3l5wE8"
      ]
    },
    "accelerator": "GPU",
    "widgets": {
      "application/vnd.jupyter.widget-state+json": {
        "8173c9006c284ca2ba029c0888382892": {
          "model_module": "@jupyter-widgets/controls",
          "model_name": "HBoxModel",
          "model_module_version": "1.5.0",
          "state": {
            "_dom_classes": [],
            "_model_module": "@jupyter-widgets/controls",
            "_model_module_version": "1.5.0",
            "_model_name": "HBoxModel",
            "_view_count": null,
            "_view_module": "@jupyter-widgets/controls",
            "_view_module_version": "1.5.0",
            "_view_name": "HBoxView",
            "box_style": "",
            "children": [
              "IPY_MODEL_43666c2996324ef4b70e89f5caeb72eb",
              "IPY_MODEL_480b35d693884a989b4e7c0a7ad84cbf",
              "IPY_MODEL_6d0c3154cde94e72aedd8b94e12e06b2"
            ],
            "layout": "IPY_MODEL_5f21c5fe85ef41df9e6d99f20b98f9dc"
          }
        },
        "43666c2996324ef4b70e89f5caeb72eb": {
          "model_module": "@jupyter-widgets/controls",
          "model_name": "HTMLModel",
          "model_module_version": "1.5.0",
          "state": {
            "_dom_classes": [],
            "_model_module": "@jupyter-widgets/controls",
            "_model_module_version": "1.5.0",
            "_model_name": "HTMLModel",
            "_view_count": null,
            "_view_module": "@jupyter-widgets/controls",
            "_view_module_version": "1.5.0",
            "_view_name": "HTMLView",
            "description": "",
            "description_tooltip": null,
            "layout": "IPY_MODEL_7e8c89cf68274c1bb4cbd54eb39c648a",
            "placeholder": "​",
            "style": "IPY_MODEL_a8a8e7ff17504c3782184e9ab1ef4d2d",
            "value": "100%"
          }
        },
        "480b35d693884a989b4e7c0a7ad84cbf": {
          "model_module": "@jupyter-widgets/controls",
          "model_name": "FloatProgressModel",
          "model_module_version": "1.5.0",
          "state": {
            "_dom_classes": [],
            "_model_module": "@jupyter-widgets/controls",
            "_model_module_version": "1.5.0",
            "_model_name": "FloatProgressModel",
            "_view_count": null,
            "_view_module": "@jupyter-widgets/controls",
            "_view_module_version": "1.5.0",
            "_view_name": "ProgressView",
            "bar_style": "success",
            "description": "",
            "description_tooltip": null,
            "layout": "IPY_MODEL_f57a4c6747a24cafadc2042e1e2290b4",
            "max": 15682,
            "min": 0,
            "orientation": "horizontal",
            "style": "IPY_MODEL_52ead7b36f1045ca8e3ea3195b3fed6a",
            "value": 15682
          }
        },
        "6d0c3154cde94e72aedd8b94e12e06b2": {
          "model_module": "@jupyter-widgets/controls",
          "model_name": "HTMLModel",
          "model_module_version": "1.5.0",
          "state": {
            "_dom_classes": [],
            "_model_module": "@jupyter-widgets/controls",
            "_model_module_version": "1.5.0",
            "_model_name": "HTMLModel",
            "_view_count": null,
            "_view_module": "@jupyter-widgets/controls",
            "_view_module_version": "1.5.0",
            "_view_name": "HTMLView",
            "description": "",
            "description_tooltip": null,
            "layout": "IPY_MODEL_169c1082462f48459790ebfd937721b9",
            "placeholder": "​",
            "style": "IPY_MODEL_d9a3e1b0c9af40899e8e83d7b605c73b",
            "value": " 15682/15682 [02:27&lt;00:00, 100.68it/s]"
          }
        },
        "5f21c5fe85ef41df9e6d99f20b98f9dc": {
          "model_module": "@jupyter-widgets/base",
          "model_name": "LayoutModel",
          "model_module_version": "1.2.0",
          "state": {
            "_model_module": "@jupyter-widgets/base",
            "_model_module_version": "1.2.0",
            "_model_name": "LayoutModel",
            "_view_count": null,
            "_view_module": "@jupyter-widgets/base",
            "_view_module_version": "1.2.0",
            "_view_name": "LayoutView",
            "align_content": null,
            "align_items": null,
            "align_self": null,
            "border": null,
            "bottom": null,
            "display": null,
            "flex": null,
            "flex_flow": null,
            "grid_area": null,
            "grid_auto_columns": null,
            "grid_auto_flow": null,
            "grid_auto_rows": null,
            "grid_column": null,
            "grid_gap": null,
            "grid_row": null,
            "grid_template_areas": null,
            "grid_template_columns": null,
            "grid_template_rows": null,
            "height": null,
            "justify_content": null,
            "justify_items": null,
            "left": null,
            "margin": null,
            "max_height": null,
            "max_width": null,
            "min_height": null,
            "min_width": null,
            "object_fit": null,
            "object_position": null,
            "order": null,
            "overflow": null,
            "overflow_x": null,
            "overflow_y": null,
            "padding": null,
            "right": null,
            "top": null,
            "visibility": null,
            "width": null
          }
        },
        "7e8c89cf68274c1bb4cbd54eb39c648a": {
          "model_module": "@jupyter-widgets/base",
          "model_name": "LayoutModel",
          "model_module_version": "1.2.0",
          "state": {
            "_model_module": "@jupyter-widgets/base",
            "_model_module_version": "1.2.0",
            "_model_name": "LayoutModel",
            "_view_count": null,
            "_view_module": "@jupyter-widgets/base",
            "_view_module_version": "1.2.0",
            "_view_name": "LayoutView",
            "align_content": null,
            "align_items": null,
            "align_self": null,
            "border": null,
            "bottom": null,
            "display": null,
            "flex": null,
            "flex_flow": null,
            "grid_area": null,
            "grid_auto_columns": null,
            "grid_auto_flow": null,
            "grid_auto_rows": null,
            "grid_column": null,
            "grid_gap": null,
            "grid_row": null,
            "grid_template_areas": null,
            "grid_template_columns": null,
            "grid_template_rows": null,
            "height": null,
            "justify_content": null,
            "justify_items": null,
            "left": null,
            "margin": null,
            "max_height": null,
            "max_width": null,
            "min_height": null,
            "min_width": null,
            "object_fit": null,
            "object_position": null,
            "order": null,
            "overflow": null,
            "overflow_x": null,
            "overflow_y": null,
            "padding": null,
            "right": null,
            "top": null,
            "visibility": null,
            "width": null
          }
        },
        "a8a8e7ff17504c3782184e9ab1ef4d2d": {
          "model_module": "@jupyter-widgets/controls",
          "model_name": "DescriptionStyleModel",
          "model_module_version": "1.5.0",
          "state": {
            "_model_module": "@jupyter-widgets/controls",
            "_model_module_version": "1.5.0",
            "_model_name": "DescriptionStyleModel",
            "_view_count": null,
            "_view_module": "@jupyter-widgets/base",
            "_view_module_version": "1.2.0",
            "_view_name": "StyleView",
            "description_width": ""
          }
        },
        "f57a4c6747a24cafadc2042e1e2290b4": {
          "model_module": "@jupyter-widgets/base",
          "model_name": "LayoutModel",
          "model_module_version": "1.2.0",
          "state": {
            "_model_module": "@jupyter-widgets/base",
            "_model_module_version": "1.2.0",
            "_model_name": "LayoutModel",
            "_view_count": null,
            "_view_module": "@jupyter-widgets/base",
            "_view_module_version": "1.2.0",
            "_view_name": "LayoutView",
            "align_content": null,
            "align_items": null,
            "align_self": null,
            "border": null,
            "bottom": null,
            "display": null,
            "flex": null,
            "flex_flow": null,
            "grid_area": null,
            "grid_auto_columns": null,
            "grid_auto_flow": null,
            "grid_auto_rows": null,
            "grid_column": null,
            "grid_gap": null,
            "grid_row": null,
            "grid_template_areas": null,
            "grid_template_columns": null,
            "grid_template_rows": null,
            "height": null,
            "justify_content": null,
            "justify_items": null,
            "left": null,
            "margin": null,
            "max_height": null,
            "max_width": null,
            "min_height": null,
            "min_width": null,
            "object_fit": null,
            "object_position": null,
            "order": null,
            "overflow": null,
            "overflow_x": null,
            "overflow_y": null,
            "padding": null,
            "right": null,
            "top": null,
            "visibility": null,
            "width": null
          }
        },
        "52ead7b36f1045ca8e3ea3195b3fed6a": {
          "model_module": "@jupyter-widgets/controls",
          "model_name": "ProgressStyleModel",
          "model_module_version": "1.5.0",
          "state": {
            "_model_module": "@jupyter-widgets/controls",
            "_model_module_version": "1.5.0",
            "_model_name": "ProgressStyleModel",
            "_view_count": null,
            "_view_module": "@jupyter-widgets/base",
            "_view_module_version": "1.2.0",
            "_view_name": "StyleView",
            "bar_color": null,
            "description_width": ""
          }
        },
        "169c1082462f48459790ebfd937721b9": {
          "model_module": "@jupyter-widgets/base",
          "model_name": "LayoutModel",
          "model_module_version": "1.2.0",
          "state": {
            "_model_module": "@jupyter-widgets/base",
            "_model_module_version": "1.2.0",
            "_model_name": "LayoutModel",
            "_view_count": null,
            "_view_module": "@jupyter-widgets/base",
            "_view_module_version": "1.2.0",
            "_view_name": "LayoutView",
            "align_content": null,
            "align_items": null,
            "align_self": null,
            "border": null,
            "bottom": null,
            "display": null,
            "flex": null,
            "flex_flow": null,
            "grid_area": null,
            "grid_auto_columns": null,
            "grid_auto_flow": null,
            "grid_auto_rows": null,
            "grid_column": null,
            "grid_gap": null,
            "grid_row": null,
            "grid_template_areas": null,
            "grid_template_columns": null,
            "grid_template_rows": null,
            "height": null,
            "justify_content": null,
            "justify_items": null,
            "left": null,
            "margin": null,
            "max_height": null,
            "max_width": null,
            "min_height": null,
            "min_width": null,
            "object_fit": null,
            "object_position": null,
            "order": null,
            "overflow": null,
            "overflow_x": null,
            "overflow_y": null,
            "padding": null,
            "right": null,
            "top": null,
            "visibility": null,
            "width": null
          }
        },
        "d9a3e1b0c9af40899e8e83d7b605c73b": {
          "model_module": "@jupyter-widgets/controls",
          "model_name": "DescriptionStyleModel",
          "model_module_version": "1.5.0",
          "state": {
            "_model_module": "@jupyter-widgets/controls",
            "_model_module_version": "1.5.0",
            "_model_name": "DescriptionStyleModel",
            "_view_count": null,
            "_view_module": "@jupyter-widgets/base",
            "_view_module_version": "1.2.0",
            "_view_name": "StyleView",
            "description_width": ""
          }
        }
      }
    }
  },
  "nbformat": 4,
  "nbformat_minor": 0
}